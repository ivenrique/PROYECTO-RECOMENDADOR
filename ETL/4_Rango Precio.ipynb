{
 "cells": [
  {
   "cell_type": "code",
   "execution_count": 1,
   "id": "be481fc2",
   "metadata": {},
   "outputs": [],
   "source": [
    "import pandas as pd\n",
    "import numpy as np\n",
    "from time import sleep\n",
    "import pickle\n",
    "import os"
   ]
  },
  {
   "cell_type": "markdown",
   "id": "e9578fa0",
   "metadata": {},
   "source": [
    "### Rango de precio\n",
    "para extraer de esta columna los tipos de cocina que aparecen"
   ]
  },
  {
   "cell_type": "code",
   "execution_count": 2,
   "id": "b19db7c8",
   "metadata": {},
   "outputs": [],
   "source": [
    "df=pd.read_csv(\"Sources\\Trip_Rest_Madrid.csv\")"
   ]
  },
  {
   "cell_type": "code",
   "execution_count": 3,
   "id": "b0c8666a",
   "metadata": {},
   "outputs": [
    {
     "name": "stdout",
     "output_type": "stream",
     "text": [
      "<class 'pandas.core.frame.DataFrame'>\n",
      "RangeIndex: 9869 entries, 0 to 9868\n",
      "Data columns (total 19 columns):\n",
      " #   Column           Non-Null Count  Dtype  \n",
      "---  ------           --------------  -----  \n",
      " 0   Unnamed: 0       9869 non-null   int64  \n",
      " 1   Nombre           9836 non-null   object \n",
      " 2   Score            9443 non-null   object \n",
      " 3   Excelente        9443 non-null   float64\n",
      " 4   MuyBueno         9443 non-null   float64\n",
      " 5   Normal           9443 non-null   float64\n",
      " 6   Malo             9443 non-null   float64\n",
      " 7   Pesimo           9443 non-null   float64\n",
      " 8   Num_Reviews      9836 non-null   float64\n",
      " 9   Posicion         9428 non-null   float64\n",
      " 10  Rango_precio     8768 non-null   object \n",
      " 11  Tipo_Cocina      9869 non-null   object \n",
      " 12  Awards           9869 non-null   object \n",
      " 13  Score_Comida     5606 non-null   float64\n",
      " 14  Score_Servicio   5586 non-null   float64\n",
      " 15  Calidad_Precio   5532 non-null   float64\n",
      " 16  Ambiente         1841 non-null   float64\n",
      " 17  Direccion        9836 non-null   object \n",
      " 18  Web_TripAdvisor  9869 non-null   object \n",
      "dtypes: float64(11), int64(1), object(7)\n",
      "memory usage: 1.4+ MB\n"
     ]
    }
   ],
   "source": [
    "df.info()"
   ]
  },
  {
   "cell_type": "code",
   "execution_count": 4,
   "id": "6aa26e98",
   "metadata": {},
   "outputs": [
    {
     "data": {
      "text/plain": [
       "array(['€', '€€ - €€€', 'Española', 'Italiana', nan, 'Mediterránea',\n",
       "       'Bar', 'Japonesa', 'Francesa', 'Americana', 'Sudamericana',\n",
       "       'China', '€€€€', 'Brasileña', 'Café', 'Peruana', 'Mexicana',\n",
       "       'Europea', 'Africana', 'Irlandesa', 'Argentina', 'Internacional',\n",
       "       'Restaurante de carne', 'Asiática', 'Tienda gourmet', 'Asador',\n",
       "       'Fusión japonesa', 'Pub con cerveza artesanal', 'Filipina',\n",
       "       'India', 'Latina', 'Marisco', 'Contemporánea', 'Bares para comer',\n",
       "       'Saludable', 'Pizza', 'Comida rápida', 'Hawaiana', 'Griega',\n",
       "       'Marroquí', 'Casa de un chef local', 'Libanesa', 'Turca', 'Sushi',\n",
       "       'Venezolana', 'Vinoteca', 'Pub', 'Fusión', 'Tailandesa', 'Postres',\n",
       "       'Barbacoa', 'De Oriente Medio', 'Comedor', 'Australiana',\n",
       "       'Caribeña', 'Street food / Comida en la calle', 'Suiza',\n",
       "       'Tentempiés', 'Alemana', 'Chilena', 'Belga'], dtype=object)"
      ]
     },
     "execution_count": 4,
     "metadata": {},
     "output_type": "execute_result"
    }
   ],
   "source": [
    "df[\"Rango_precio\"].unique()"
   ]
  },
  {
   "cell_type": "code",
   "execution_count": null,
   "id": "1de95916",
   "metadata": {},
   "outputs": [],
   "source": []
  },
  {
   "cell_type": "code",
   "execution_count": 5,
   "id": "1128d350",
   "metadata": {},
   "outputs": [],
   "source": [
    "df_Precio=df[[\"Nombre\", \"Rango_precio\", \"Tipo_Cocina\"]]"
   ]
  },
  {
   "cell_type": "code",
   "execution_count": null,
   "id": "f96b7a8b",
   "metadata": {},
   "outputs": [],
   "source": []
  },
  {
   "cell_type": "code",
   "execution_count": 6,
   "id": "78b08fa1",
   "metadata": {},
   "outputs": [
    {
     "data": {
      "text/html": [
       "<div>\n",
       "<style scoped>\n",
       "    .dataframe tbody tr th:only-of-type {\n",
       "        vertical-align: middle;\n",
       "    }\n",
       "\n",
       "    .dataframe tbody tr th {\n",
       "        vertical-align: top;\n",
       "    }\n",
       "\n",
       "    .dataframe thead th {\n",
       "        text-align: right;\n",
       "    }\n",
       "</style>\n",
       "<table border=\"1\" class=\"dataframe\">\n",
       "  <thead>\n",
       "    <tr style=\"text-align: right;\">\n",
       "      <th></th>\n",
       "      <th>Nombre</th>\n",
       "      <th>Rango_precio</th>\n",
       "      <th>Tipo_Cocina</th>\n",
       "    </tr>\n",
       "  </thead>\n",
       "  <tbody>\n",
       "    <tr>\n",
       "      <th>0</th>\n",
       "      <td>El Capote</td>\n",
       "      <td>€</td>\n",
       "      <td>['Española']</td>\n",
       "    </tr>\n",
       "    <tr>\n",
       "      <th>1</th>\n",
       "      <td>La Queda</td>\n",
       "      <td>€</td>\n",
       "      <td>['Española']</td>\n",
       "    </tr>\n",
       "    <tr>\n",
       "      <th>2</th>\n",
       "      <td>Limbo Tribunal</td>\n",
       "      <td>€€ - €€€</td>\n",
       "      <td>['Restaurante de carne', 'Barbacoa']</td>\n",
       "    </tr>\n",
       "    <tr>\n",
       "      <th>3</th>\n",
       "      <td>400 Grados Pizza - Maria de Molina</td>\n",
       "      <td>€€ - €€€</td>\n",
       "      <td>['Italiana', 'Pizza', 'Saludable']</td>\n",
       "    </tr>\n",
       "    <tr>\n",
       "      <th>4</th>\n",
       "      <td>Ginos</td>\n",
       "      <td>€€ - €€€</td>\n",
       "      <td>['Italiana', 'Mediterránea', 'Opciones vegetar...</td>\n",
       "    </tr>\n",
       "    <tr>\n",
       "      <th>5</th>\n",
       "      <td>Tento</td>\n",
       "      <td>€</td>\n",
       "      <td>['Mediterránea', 'Española']</td>\n",
       "    </tr>\n",
       "    <tr>\n",
       "      <th>6</th>\n",
       "      <td>Naki's Urban Food</td>\n",
       "      <td>Española</td>\n",
       "      <td>[]</td>\n",
       "    </tr>\n",
       "    <tr>\n",
       "      <th>7</th>\n",
       "      <td>Lamiak</td>\n",
       "      <td>€</td>\n",
       "      <td>['Bar', 'Mediterránea', 'Española']</td>\n",
       "    </tr>\n",
       "    <tr>\n",
       "      <th>8</th>\n",
       "      <td>Mama Rosa Embajadores</td>\n",
       "      <td>Italiana</td>\n",
       "      <td>['Argentina', 'Sudamericana']</td>\n",
       "    </tr>\n",
       "    <tr>\n",
       "      <th>9</th>\n",
       "      <td>Garden Navarra Castellana</td>\n",
       "      <td>€€ - €€€</td>\n",
       "      <td>['Mediterránea', 'Europea', 'Española']</td>\n",
       "    </tr>\n",
       "    <tr>\n",
       "      <th>10</th>\n",
       "      <td>Restaurante Uval</td>\n",
       "      <td>€€ - €€€</td>\n",
       "      <td>['Mediterránea', 'Española', 'Opciones sin glu...</td>\n",
       "    </tr>\n",
       "    <tr>\n",
       "      <th>11</th>\n",
       "      <td>Healthy Poke Plaza Elíptica</td>\n",
       "      <td>€€ - €€€</td>\n",
       "      <td>['Comida rápida', 'Fusión', 'Saludable']</td>\n",
       "    </tr>\n",
       "    <tr>\n",
       "      <th>12</th>\n",
       "      <td>Trattoria da Piero</td>\n",
       "      <td>€€ - €€€</td>\n",
       "      <td>['Italiana', 'Pizza', 'Mediterránea']</td>\n",
       "    </tr>\n",
       "    <tr>\n",
       "      <th>13</th>\n",
       "      <td>La Fondue de Tell</td>\n",
       "      <td>€€ - €€€</td>\n",
       "      <td>['Suiza', 'Europea', 'Centroeuropea']</td>\n",
       "    </tr>\n",
       "    <tr>\n",
       "      <th>14</th>\n",
       "      <td>Sumeshi</td>\n",
       "      <td>€</td>\n",
       "      <td>['Japonesa', 'Sushi']</td>\n",
       "    </tr>\n",
       "    <tr>\n",
       "      <th>15</th>\n",
       "      <td>La Peineta</td>\n",
       "      <td>€</td>\n",
       "      <td>['Española']</td>\n",
       "    </tr>\n",
       "    <tr>\n",
       "      <th>16</th>\n",
       "      <td>Cachapeishon</td>\n",
       "      <td>€€ - €€€</td>\n",
       "      <td>['Latina', 'Venezolana']</td>\n",
       "    </tr>\n",
       "    <tr>\n",
       "      <th>17</th>\n",
       "      <td>BurgerMeister</td>\n",
       "      <td>€€ - €€€</td>\n",
       "      <td>['Americana']</td>\n",
       "    </tr>\n",
       "    <tr>\n",
       "      <th>18</th>\n",
       "      <td>McDonald's</td>\n",
       "      <td>NaN</td>\n",
       "      <td>[]</td>\n",
       "    </tr>\n",
       "    <tr>\n",
       "      <th>19</th>\n",
       "      <td>Mesón de la Guitarra</td>\n",
       "      <td>€</td>\n",
       "      <td>['Española']</td>\n",
       "    </tr>\n",
       "  </tbody>\n",
       "</table>\n",
       "</div>"
      ],
      "text/plain": [
       "                                Nombre Rango_precio  \\\n",
       "0                            El Capote            €   \n",
       "1                             La Queda            €   \n",
       "2                       Limbo Tribunal     €€ - €€€   \n",
       "3   400 Grados Pizza - Maria de Molina     €€ - €€€   \n",
       "4                                Ginos     €€ - €€€   \n",
       "5                                Tento            €   \n",
       "6                    Naki's Urban Food     Española   \n",
       "7                               Lamiak            €   \n",
       "8                Mama Rosa Embajadores     Italiana   \n",
       "9            Garden Navarra Castellana     €€ - €€€   \n",
       "10                    Restaurante Uval     €€ - €€€   \n",
       "11         Healthy Poke Plaza Elíptica     €€ - €€€   \n",
       "12                  Trattoria da Piero     €€ - €€€   \n",
       "13                   La Fondue de Tell     €€ - €€€   \n",
       "14                             Sumeshi            €   \n",
       "15                          La Peineta            €   \n",
       "16                        Cachapeishon     €€ - €€€   \n",
       "17                       BurgerMeister     €€ - €€€   \n",
       "18                          McDonald's          NaN   \n",
       "19                Mesón de la Guitarra            €   \n",
       "\n",
       "                                          Tipo_Cocina  \n",
       "0                                        ['Española']  \n",
       "1                                        ['Española']  \n",
       "2                ['Restaurante de carne', 'Barbacoa']  \n",
       "3                  ['Italiana', 'Pizza', 'Saludable']  \n",
       "4   ['Italiana', 'Mediterránea', 'Opciones vegetar...  \n",
       "5                        ['Mediterránea', 'Española']  \n",
       "6                                                  []  \n",
       "7                 ['Bar', 'Mediterránea', 'Española']  \n",
       "8                       ['Argentina', 'Sudamericana']  \n",
       "9             ['Mediterránea', 'Europea', 'Española']  \n",
       "10  ['Mediterránea', 'Española', 'Opciones sin glu...  \n",
       "11           ['Comida rápida', 'Fusión', 'Saludable']  \n",
       "12              ['Italiana', 'Pizza', 'Mediterránea']  \n",
       "13              ['Suiza', 'Europea', 'Centroeuropea']  \n",
       "14                              ['Japonesa', 'Sushi']  \n",
       "15                                       ['Española']  \n",
       "16                           ['Latina', 'Venezolana']  \n",
       "17                                      ['Americana']  \n",
       "18                                                 []  \n",
       "19                                       ['Española']  "
      ]
     },
     "execution_count": 6,
     "metadata": {},
     "output_type": "execute_result"
    }
   ],
   "source": [
    "df_Precio.head(20)"
   ]
  },
  {
   "cell_type": "code",
   "execution_count": 7,
   "id": "a5111fb8",
   "metadata": {},
   "outputs": [
    {
     "name": "stderr",
     "output_type": "stream",
     "text": [
      "C:\\Users\\ivenr\\AppData\\Local\\Temp\\ipykernel_20848\\2139214110.py:1: SettingWithCopyWarning: \n",
      "A value is trying to be set on a copy of a slice from a DataFrame.\n",
      "Try using .loc[row_indexer,col_indexer] = value instead\n",
      "\n",
      "See the caveats in the documentation: https://pandas.pydata.org/pandas-docs/stable/user_guide/indexing.html#returning-a-view-versus-a-copy\n",
      "  df_Precio[\"Rango_precio\"]=df_Precio[\"Rango_precio\"].astype(str)\n"
     ]
    }
   ],
   "source": [
    "df_Precio[\"Rango_precio\"]=df_Precio[\"Rango_precio\"].astype(str)\n"
   ]
  },
  {
   "cell_type": "code",
   "execution_count": 8,
   "id": "c4fd8ad3",
   "metadata": {},
   "outputs": [
    {
     "data": {
      "text/plain": [
       "str"
      ]
     },
     "execution_count": 8,
     "metadata": {},
     "output_type": "execute_result"
    }
   ],
   "source": [
    "type(df_Precio[\"Rango_precio\"][18])"
   ]
  },
  {
   "cell_type": "code",
   "execution_count": 9,
   "id": "ad18ed21",
   "metadata": {
    "scrolled": true
   },
   "outputs": [
    {
     "name": "stderr",
     "output_type": "stream",
     "text": [
      "C:\\Users\\ivenr\\AppData\\Local\\Temp\\ipykernel_20848\\2332293737.py:7: SettingWithCopyWarning: \n",
      "A value is trying to be set on a copy of a slice from a DataFrame\n",
      "\n",
      "See the caveats in the documentation: https://pandas.pydata.org/pandas-docs/stable/user_guide/indexing.html#returning-a-view-versus-a-copy\n",
      "  df_Precio[\"Rango_precio\"][i]=\"€€ - €€€\"#se sustituye el valor por un precio medio\n"
     ]
    },
    {
     "name": "stdout",
     "output_type": "stream",
     "text": [
      "{6: 'Española', 8: 'Italiana', 18: 'nan', 21: 'Española', 27: 'Española', 29: 'nan', 30: 'Española', 36: 'Mediterránea', 37: 'Bar', 38: 'Española', 41: 'Mediterránea', 42: 'Española', 46: 'Española', 48: 'Japonesa', 49: 'nan', 51: 'nan', 54: 'Francesa', 59: 'Bar', 65: 'Americana', 66: 'Italiana', 68: 'Sudamericana', 72: 'China', 74: 'China', 79: 'nan', 84: 'nan', 87: 'Bar', 101: 'Española', 102: 'Española', 105: 'Bar', 106: 'nan', 115: 'Italiana', 117: 'Brasileña', 122: 'nan', 123: 'nan', 130: 'Mediterránea', 133: 'nan', 139: 'nan', 147: 'Bar', 149: 'nan', 154: 'nan', 155: 'Café', 158: 'nan', 164: 'Italiana', 168: 'Bar', 180: 'Italiana', 182: 'Española', 185: 'Bar', 188: 'Española', 194: 'Sudamericana', 197: 'nan', 199: 'Peruana', 206: 'Peruana', 208: 'nan', 211: 'Española', 212: 'nan', 214: 'Mediterránea', 223: 'Mexicana', 225: 'nan', 230: 'nan', 233: 'Bar', 234: 'nan', 242: 'Mediterránea', 243: 'Europea', 244: 'Española', 247: 'Bar', 251: 'nan', 253: 'nan', 255: 'Española', 257: 'nan', 258: 'Bar', 280: 'Española', 281: 'nan', 283: 'Africana', 284: 'Española', 289: 'Irlandesa', 291: 'nan', 293: 'Argentina', 294: 'Española', 297: 'Española', 302: 'nan', 303: 'Bar', 307: 'Internacional', 309: 'nan', 310: 'Española', 313: 'nan', 316: 'nan', 317: 'Italiana', 318: 'nan', 321: 'Americana', 322: 'Restaurante de carne', 324: 'Española', 325: 'Española', 332: 'Americana', 335: 'Española', 355: 'nan', 358: 'Francesa', 359: 'nan', 360: 'Asiática', 361: 'nan', 364: 'Española', 365: 'Sudamericana', 369: 'Mediterránea', 374: 'China', 378: 'nan', 381: 'Tienda gourmet', 385: 'nan', 387: 'Española', 388: 'Sudamericana', 389: 'nan', 393: 'Española', 394: 'China', 395: 'Asador', 398: 'Italiana', 402: 'nan', 403: 'China', 406: 'Fusión japonesa', 417: 'nan', 418: 'Mediterránea', 419: 'Española', 431: 'Italiana', 435: 'nan', 436: 'nan', 442: 'Bar', 443: 'Española', 449: 'Española', 458: 'nan', 459: 'Mediterránea', 461: 'nan', 465: 'Española', 473: 'Pub con cerveza artesanal', 481: 'Brasileña', 484: 'Mexicana', 488: 'Española', 492: 'China', 493: 'Filipina', 495: 'Europea', 496: 'Café', 500: 'Café', 503: 'Mediterránea', 505: 'Italiana', 512: 'nan', 513: 'nan', 515: 'nan', 517: 'nan', 520: 'Española', 521: 'Japonesa', 523: 'Italiana', 531: 'Mexicana', 535: 'nan', 539: 'Española', 542: 'nan', 543: 'Española', 552: 'Española', 559: 'nan', 560: 'nan', 564: 'nan', 565: 'Española', 568: 'India', 578: 'Europea', 582: 'Bar', 583: 'nan', 587: 'Latina', 592: 'nan', 606: 'nan', 615: 'nan', 621: 'Peruana', 623: 'Francesa', 627: 'Mediterránea', 629: 'nan', 630: 'nan', 635: 'Francesa', 641: 'Japonesa', 644: 'Mexicana', 648: 'Española', 660: 'nan', 661: 'Peruana', 663: 'Americana', 666: 'nan', 670: 'nan', 676: 'Marisco', 680: 'nan', 682: 'Contemporánea', 683: 'Marisco', 692: 'nan', 693: 'Bares para comer', 694: 'nan', 695: 'Mediterránea', 699: 'nan', 702: 'Española', 704: 'Japonesa', 706: 'Mexicana', 713: 'nan', 716: 'Española', 718: 'Latina', 719: 'nan', 721: 'nan', 725: 'Café', 728: 'nan', 730: 'Saludable', 735: 'Bar', 739: 'Mediterránea', 743: 'Restaurante de carne', 745: 'nan', 753: 'Asiática', 757: 'nan', 761: 'Japonesa', 763: 'Sudamericana', 764: 'nan', 767: 'Italiana', 769: 'Internacional', 770: 'nan', 773: 'nan', 774: 'Mediterránea', 782: 'nan', 786: 'nan', 791: 'Americana', 794: 'Bar', 797: 'nan', 799: 'Mexicana', 803: 'Española', 804: 'Peruana', 811: 'nan', 816: 'Pizza', 819: 'Internacional', 820: 'Saludable', 825: 'China', 826: 'Americana', 832: 'Americana', 833: 'India', 836: 'nan', 838: 'Café', 842: 'Comida rápida', 843: 'Restaurante de carne', 844: 'Bar', 848: 'nan', 850: 'nan', 851: 'Española', 852: 'Japonesa', 853: 'Mediterránea', 857: 'nan', 859: 'China', 861: 'nan', 862: 'Española', 864: 'Argentina', 866: 'nan', 867: 'China', 871: 'Española', 877: 'nan', 878: 'nan', 879: 'Bar', 883: 'nan', 886: 'nan', 891: 'Española', 893: 'Latina', 895: 'Americana', 903: 'nan', 908: 'Española', 909: 'nan', 914: 'nan', 920: 'Mexicana', 929: 'nan', 935: 'Comida rápida', 937: 'Mediterránea', 938: 'nan', 942: 'Bar', 953: 'Café', 958: 'Española', 959: 'Hawaiana', 963: 'Latina', 968: 'Café', 970: 'nan', 972: 'nan', 976: 'nan', 980: 'Bar', 981: 'Mediterránea', 984: 'Bar', 988: 'Española', 991: 'Italiana', 997: 'nan', 998: 'Italiana', 1006: 'Mediterránea', 1007: 'Italiana', 1014: 'nan', 1016: 'Café', 1017: 'Restaurante de carne', 1021: 'Saludable', 1023: 'Mediterránea', 1028: 'nan', 1032: 'nan', 1041: 'Española', 1042: 'Española', 1045: 'Americana', 1049: 'Española', 1055: 'Restaurante de carne', 1056: 'nan', 1061: 'nan', 1063: 'Española', 1066: 'nan', 1068: 'nan', 1070: 'nan', 1074: 'nan', 1080: 'nan', 1087: 'nan', 1091: 'nan', 1095: 'Japonesa', 1097: 'nan', 1100: 'Francesa', 1104: 'Mediterránea', 1108: 'Española', 1113: 'nan', 1116: 'Café', 1119: 'Griega', 1124: 'Española', 1130: 'Española', 1132: 'nan', 1137: 'nan', 1143: 'nan', 1144: 'Japonesa', 1145: 'nan', 1156: 'nan', 1159: 'Asiática', 1174: 'nan', 1176: 'nan', 1185: 'Bar', 1186: 'nan', 1190: 'Mediterránea', 1195: 'Española', 1213: 'nan', 1214: 'China', 1216: 'India', 1219: 'Mexicana', 1223: 'Española', 1224: 'nan', 1225: 'Americana', 1236: 'Española', 1237: 'Española', 1238: 'nan', 1242: 'nan', 1244: 'nan', 1247: 'Española', 1248: 'nan', 1249: 'nan', 1251: 'nan', 1254: 'Marroquí', 1255: 'nan', 1260: 'Americana', 1263: 'Pizza', 1267: 'nan', 1268: 'nan', 1269: 'nan', 1270: 'nan', 1277: 'nan', 1278: 'Española', 1280: 'Española', 1288: 'Italiana', 1293: 'Bar', 1295: 'nan', 1302: 'Casa de un chef local', 1305: 'nan', 1308: 'nan', 1315: 'Francesa', 1318: 'Argentina', 1319: 'Internacional', 1321: 'Española', 1329: 'Italiana', 1330: 'Española', 1334: 'nan', 1335: 'Mediterránea', 1343: 'Española', 1347: 'nan', 1349: 'Libanesa', 1350: 'nan', 1351: 'Asador', 1353: 'Mediterránea', 1358: 'nan', 1360: 'Española', 1361: 'Española', 1363: 'nan', 1376: 'Española', 1387: 'Española', 1388: 'Bar', 1389: 'Mexicana', 1391: 'China', 1394: 'Asador', 1398: 'Asiática', 1399: 'nan', 1402: 'nan', 1403: 'Española', 1411: 'Argentina', 1420: 'China', 1421: 'nan', 1424: 'Europea', 1427: 'Internacional', 1428: 'Bar', 1429: 'Española', 1431: 'Española', 1442: 'nan', 1445: 'Comida rápida', 1446: 'Turca', 1447: 'nan', 1448: 'Española', 1453: 'Internacional', 1454: 'nan', 1455: 'Española', 1456: 'Restaurante de carne', 1464: 'China', 1470: 'nan', 1475: 'Sushi', 1478: 'Italiana', 1480: 'Española', 1484: 'Española', 1485: 'nan', 1488: 'Bar', 1490: 'Peruana', 1492: 'Mexicana', 1497: 'Bar', 1498: 'nan', 1507: 'nan', 1510: 'Bar', 1511: 'nan', 1512: 'Bar', 1518: 'nan', 1522: 'nan', 1525: 'Comida rápida', 1532: 'Mexicana', 1537: 'Mediterránea', 1538: 'Italiana', 1540: 'Mediterránea', 1541: 'nan', 1542: 'Venezolana', 1543: 'nan', 1545: 'Bar', 1548: 'Mexicana', 1549: 'nan', 1550: 'Americana', 1552: 'nan', 1553: 'nan', 1569: 'China', 1570: 'China', 1579: 'Americana', 1586: 'Europea', 1602: 'nan', 1606: 'nan', 1614: 'nan', 1616: 'Asiática', 1618: 'Argentina', 1624: 'Bar', 1625: 'Mediterránea', 1627: 'Italiana', 1629: 'nan', 1630: 'nan', 1635: 'Italiana', 1638: 'nan', 1639: 'nan', 1643: 'Latina', 1652: 'Mediterránea', 1658: 'Café', 1660: 'nan', 1671: 'Restaurante de carne', 1673: 'Italiana', 1677: 'nan', 1684: 'nan', 1688: 'Pizza', 1691: 'Peruana', 1692: 'nan', 1693: 'Bar', 1697: 'nan', 1699: 'Café', 1705: 'Española', 1707: 'nan', 1709: 'Española', 1712: 'Asiática', 1714: 'nan', 1719: 'China', 1721: 'Peruana', 1725: 'nan', 1735: 'nan', 1745: 'nan', 1747: 'Mediterránea', 1748: 'Café', 1752: 'nan', 1754: 'Española', 1757: 'Tienda gourmet', 1761: 'nan', 1762: 'nan', 1764: 'Marisco', 1765: 'nan', 1768: 'Española', 1773: 'nan', 1775: 'nan', 1776: 'Española', 1778: 'nan', 1781: 'Mexicana', 1784: 'Española', 1787: 'Americana', 1807: 'nan', 1808: 'nan', 1809: 'nan', 1818: 'Española', 1824: 'Argentina', 1827: 'Saludable', 1829: 'Vinoteca', 1830: 'Pub', 1835: 'nan', 1836: 'nan', 1848: 'nan', 1849: 'nan', 1858: 'China', 1860: 'Española', 1862: 'nan', 1863: 'Fusión', 1874: 'nan', 1879: 'Bar', 1880: 'Peruana', 1881: 'Italiana', 1882: 'nan', 1890: 'nan', 1893: 'Española', 1895: 'nan', 1897: 'nan', 1904: 'Mediterránea', 1907: 'Española', 1913: 'nan', 1917: 'Francesa', 1918: 'Italiana', 1921: 'nan', 1924: 'nan', 1930: 'nan', 1931: 'Latina', 1934: 'Española', 1939: 'nan', 1943: 'Bar', 1948: 'Española', 1949: 'Francesa', 1950: 'Mediterránea', 1952: 'nan', 1963: 'nan', 1964: 'Española', 1967: 'nan', 1968: 'nan', 1970: 'Hawaiana', 1971: 'Española', 1978: 'nan', 1980: 'nan', 1983: 'Comida rápida', 1990: 'Española', 1997: 'Mediterránea', 1999: 'Filipina', 2000: 'nan', 2002: 'Española', 2008: 'nan', 2018: 'nan', 2041: 'nan', 2044: 'nan', 2051: 'Italiana', 2052: 'Española', 2054: 'nan', 2057: 'Española', 2060: 'Mediterránea', 2061: 'Mexicana', 2063: 'nan', 2068: 'nan', 2069: 'Española', 2072: 'Pizza', 2073: 'Española', 2075: 'Mediterránea', 2080: 'China', 2082: 'Mediterránea', 2083: 'Española', 2085: 'nan', 2092: 'Americana', 2095: 'nan', 2102: 'Café', 2103: 'Americana', 2104: 'Japonesa', 2107: 'Argentina', 2114: 'Mexicana', 2124: 'Saludable', 2126: 'nan', 2127: 'Café', 2129: 'Americana', 2133: 'Comida rápida', 2134: 'Española', 2139: 'Filipina', 2143: 'nan', 2146: 'nan', 2148: 'Americana', 2153: 'Peruana', 2156: 'Saludable', 2158: 'nan', 2163: 'Española', 2171: 'Tailandesa', 2172: 'nan', 2178: 'Mediterránea', 2191: 'nan', 2192: 'Americana', 2193: 'nan', 2194: 'Española', 2204: 'nan', 2208: 'Mediterránea', 2214: 'Pizza', 2216: 'nan', 2219: 'Mexicana', 2220: 'Asiática', 2226: 'Asiática', 2230: 'Italiana', 2234: 'nan', 2238: 'nan', 2243: 'nan', 2244: 'Bar', 2245: 'Americana', 2246: 'nan', 2248: 'Japonesa', 2249: 'Mexicana', 2252: 'Postres', 2255: 'nan', 2257: 'nan', 2261: 'nan', 2267: 'Marisco', 2287: 'Pizza', 2289: 'Mexicana', 2291: 'Mediterránea', 2294: 'Española', 2306: 'nan', 2310: 'nan', 2315: 'Barbacoa', 2317: 'nan', 2319: 'nan', 2323: 'Mediterránea', 2325: 'Saludable', 2331: 'Bar', 2332: 'Brasileña', 2336: 'Mexicana', 2341: 'India', 2347: 'Española', 2348: 'Peruana', 2349: 'nan', 2350: 'nan', 2353: 'nan', 2360: 'Café', 2361: 'nan', 2363: 'nan', 2364: 'nan', 2365: 'nan', 2380: 'nan', 2382: 'Española', 2384: 'Brasileña', 2390: 'nan', 2391: 'nan', 2399: 'Hawaiana', 2403: 'Española', 2404: 'China', 2405: 'Española', 2407: 'Italiana', 2412: 'nan', 2422: 'nan', 2424: 'Asiática', 2425: 'nan', 2428: 'nan', 2429: 'nan', 2433: 'nan', 2436: 'Restaurante de carne', 2444: 'Internacional', 2445: 'Pizza', 2449: 'Pizza', 2453: 'Española', 2459: 'Peruana', 2461: 'nan', 2463: 'China', 2466: 'Bar', 2471: 'Mediterránea', 2474: 'Italiana', 2479: 'De Oriente Medio', 2481: 'Española', 2482: 'nan', 2487: 'nan', 2488: 'nan', 2491: 'nan', 2501: 'nan', 2506: 'Restaurante de carne', 2507: 'Mediterránea', 2509: 'Mediterránea', 2511: 'Francesa', 2513: 'nan', 2515: 'nan', 2516: 'nan', 2517: 'Americana', 2518: 'Bar', 2523: 'Americana', 2524: 'nan', 2525: 'nan', 2528: 'Mediterránea', 2529: 'Italiana', 2531: 'nan', 2532: 'nan', 2536: 'China', 2543: 'nan', 2546: 'nan', 2549: 'Comida rápida', 2551: 'Peruana', 2552: 'Mexicana', 2553: 'Española', 2565: 'nan', 2566: 'nan', 2567: 'Mediterránea', 2569: 'Mexicana', 2570: 'Bar', 2571: 'Argentina', 2583: 'Japonesa', 2587: 'Española', 2588: 'nan', 2590: 'Española', 2592: 'nan', 2595: 'nan', 2596: 'Bar', 2597: 'nan', 2601: 'Española', 2605: 'Española', 2609: 'Café', 2613: 'Peruana', 2615: 'Española', 2617: 'nan', 2621: 'Bar', 2625: 'Turca', 2628: 'nan', 2630: 'nan', 2633: 'Pizza', 2635: 'nan', 2636: 'nan', 2639: 'nan', 2641: 'Española', 2651: 'nan', 2656: 'China', 2658: 'nan', 2661: 'Americana', 2662: 'Sudamericana', 2663: 'nan', 2674: 'Americana', 2677: 'Española', 2678: 'nan', 2680: 'nan', 2682: 'Americana', 2691: 'Bar', 2695: 'Italiana', 2697: 'Italiana', 2698: 'nan', 2699: 'Café', 2702: 'Española', 2703: 'Mediterránea', 2708: 'nan', 2710: 'Mediterránea', 2713: 'Café', 2715: 'Italiana', 2716: 'Mediterránea', 2717: 'Italiana', 2719: 'nan', 2721: 'Mexicana', 2727: 'Bar', 2733: 'Internacional', 2736: 'nan', 2743: 'nan', 2744: 'Española', 2749: 'Italiana', 2750: 'nan', 2755: 'nan', 2761: 'Española', 2763: 'nan', 2764: 'nan', 2765: 'nan', 2775: 'Saludable', 2780: 'Café', 2782: 'Española', 2784: 'Turca', 2785: 'China', 2787: 'nan', 2801: 'Filipina', 2803: 'Pizza', 2805: 'nan', 2808: 'nan', 2809: 'nan', 2813: 'nan', 2814: 'nan', 2815: 'Marisco', 2818: 'Bares para comer', 2825: 'Asador', 2826: 'Española', 2831: 'Restaurante de carne', 2836: 'nan', 2837: 'Española', 2841: 'Española', 2843: 'Española', 2852: 'nan', 2853: 'nan', 2854: 'Española', 2855: 'nan', 2859: 'Española', 2863: 'nan', 2865: 'nan', 2872: 'nan', 2873: 'Restaurante de carne', 2877: 'Venezolana', 2878: 'nan', 2882: 'Española', 2884: 'nan', 2888: 'Marisco', 2890: 'Española', 2892: 'Sudamericana', 2895: 'Bar', 2900: 'nan', 2902: 'nan', 2908: 'nan', 2909: 'nan', 2929: 'Española', 2930: 'Comedor', 2931: 'Española', 2936: 'Internacional', 2941: 'nan', 2947: 'Pub con cerveza artesanal', 2950: 'Española', 2954: 'Internacional', 2956: 'nan', 2958: 'Internacional', 2962: 'nan', 2968: 'Italiana', 2979: 'Americana', 2980: 'Española', 2981: 'nan', 2982: 'Mediterránea', 2990: 'nan', 2992: 'nan', 2995: 'nan', 2996: 'nan', 2998: 'nan', 3008: 'nan', 3010: 'nan', 3016: 'nan', 3020: 'nan', 3024: 'Española', 3026: 'nan', 3032: 'China', 3033: 'Argentina', 3038: 'Bar', 3045: 'Italiana', 3047: 'Española', 3053: 'Japonesa', 3057: 'Mediterránea', 3059: 'nan', 3062: 'nan', 3065: 'Bar', 3066: 'Americana', 3068: 'Americana', 3070: 'Mexicana', 3076: 'Argentina', 3077: 'nan', 3079: 'Española', 3093: 'nan', 3094: 'Española', 3098: 'nan', 3099: 'Española', 3106: 'Española', 3109: 'nan', 3111: 'nan', 3116: 'Europea', 3117: 'nan', 3118: 'Restaurante de carne', 3120: 'Española', 3126: 'Asiática', 3130: 'nan', 3132: 'nan', 3138: 'Mediterránea', 3141: 'Restaurante de carne', 3145: 'Italiana', 3151: 'Europea', 3153: 'Italiana', 3155: 'nan', 3160: 'Bar', 3169: 'Bar', 3171: 'Mediterránea', 3188: 'nan', 3191: 'Bar', 3196: 'nan', 3197: 'nan', 3201: 'nan', 3212: 'Mediterránea', 3217: 'nan', 3219: 'Española', 3221: 'nan', 3222: 'Española', 3223: 'nan', 3238: 'Americana', 3247: 'Café', 3250: 'Mediterránea', 3251: 'nan', 3255: 'nan', 3261: 'Mexicana', 3262: 'Mediterránea', 3266: 'Japonesa', 3273: 'nan', 3274: 'nan', 3278: 'Café', 3280: 'nan', 3286: 'Española', 3287: 'nan', 3289: 'Asiática', 3292: 'nan', 3300: 'Mediterránea', 3303: 'nan', 3306: 'nan', 3317: 'Española', 3324: 'nan', 3328: 'Internacional', 3329: 'nan', 3332: 'nan', 3337: 'nan', 3338: 'nan', 3341: 'China', 3346: 'Internacional', 3350: 'Española', 3353: 'Café', 3364: 'Comida rápida', 3371: 'nan', 3372: 'Brasileña', 3378: 'nan', 3379: 'nan', 3390: 'Española', 3397: 'Argentina', 3398: 'Española', 3399: 'Mediterránea', 3403: 'nan', 3405: 'nan', 3411: 'nan', 3414: 'nan', 3421: 'Mediterránea', 3425: 'nan', 3426: 'Tienda gourmet', 3431: 'China', 3435: 'Española', 3438: 'Española', 3440: 'Asiática', 3445: 'nan', 3446: 'Japonesa', 3448: 'Café', 3449: 'Peruana', 3454: 'Española', 3455: 'Italiana', 3457: 'Mexicana', 3459: 'nan', 3460: 'Café', 3464: 'Española', 3471: 'Española', 3472: 'nan', 3481: 'Italiana', 3484: 'nan', 3485: 'nan', 3486: 'Mediterránea', 3490: 'nan', 3492: 'Española', 3498: 'Española', 3500: 'Mediterránea', 3501: 'Café', 3503: 'Bar', 3504: 'nan', 3509: 'Española', 3510: 'Internacional', 3511: 'Española', 3516: 'Francesa', 3520: 'Turca', 3524: 'Italiana', 3531: 'Americana', 3533: 'nan', 3537: 'Bar', 3549: 'nan', 3554: 'Española', 3559: 'Argentina', 3561: 'nan', 3563: 'Internacional', 3564: 'nan', 3566: 'Mexicana', 3569: 'Argentina', 3573: 'Pub', 3579: 'nan', 3581: 'Comida rápida', 3591: 'nan', 3599: 'nan', 3602: 'Asiática', 3603: 'Española', 3607: 'nan', 3610: 'Americana', 3611: 'Italiana', 3612: 'Mediterránea', 3615: 'Bar', 3617: 'nan', 3620: 'Bar', 3622: 'nan', 3623: 'nan', 3631: 'nan', 3636: 'nan', 3638: 'Española', 3639: 'nan', 3641: 'nan', 3642: 'nan', 3646: 'Española', 3655: 'nan', 3656: 'nan', 3661: 'Japonesa', 3662: 'nan', 3671: 'Mexicana', 3672: 'nan', 3674: 'Italiana', 3689: 'China', 3690: 'nan', 3692: 'nan', 3693: 'Española', 3696: 'Bar', 3701: 'Comida rápida', 3710: 'Japonesa', 3713: 'nan', 3718: 'nan', 3726: 'nan', 3727: 'nan', 3732: 'Fusión', 3736: 'nan', 3741: 'nan', 3742: 'Mediterránea', 3748: 'nan', 3749: 'China', 3750: 'Española', 3760: 'nan', 3761: 'nan', 3762: 'nan', 3763: 'Mediterránea', 3771: 'Italiana', 3772: 'nan', 3783: 'nan', 3789: 'Bar', 3793: 'Americana', 3794: 'nan', 3800: 'nan', 3801: 'nan', 3810: 'Española', 3813: 'nan', 3814: 'nan', 3819: 'nan', 3820: 'Española', 3826: 'Peruana', 3827: 'Italiana', 3830: 'Española', 3831: 'Café', 3837: 'nan', 3839: 'Española', 3840: 'Japonesa', 3841: 'nan', 3844: 'Mediterránea', 3849: 'Americana', 3850: 'Española', 3857: 'Mediterránea', 3859: 'nan', 3862: 'Japonesa', 3871: 'nan', 3876: 'nan', 3877: 'Española', 3878: 'nan', 3879: 'nan', 3886: 'Española', 3889: 'Mediterránea', 3892: 'nan', 3894: 'Europea', 3899: 'nan', 3902: 'nan', 3903: 'Española', 3904: 'Española', 3906: 'nan', 3909: 'Española', 3912: 'Española', 3913: 'nan', 3916: 'Pub con cerveza artesanal', 3936: 'nan', 3937: 'Café', 3941: 'Mediterránea', 3943: 'Mediterránea', 3945: 'Bar', 3948: 'nan', 3949: 'nan', 3952: 'nan', 3953: 'Italiana', 3955: 'nan', 3961: 'Pub', 3963: 'nan', 3966: 'Bar', 3970: 'nan', 3971: 'nan', 3974: 'Española', 3975: 'nan', 3977: 'Mediterránea', 3978: 'Americana', 3981: 'De Oriente Medio', 3983: 'Americana', 3992: 'Española', 3993: 'nan', 3995: 'China', 3996: 'Española', 3999: 'nan', 4001: 'Española', 4006: 'Griega', 4009: 'Peruana', 4013: 'Bar', 4014: 'Bar', 4015: 'Española', 4019: 'nan', 4021: 'Libanesa', 4027: 'nan', 4036: 'nan', 4041: 'nan', 4042: 'Mediterránea', 4045: 'Mediterránea', 4047: 'India', 4050: 'Española', 4051: 'nan', 4054: 'Mexicana', 4055: 'nan', 4067: 'nan', 4068: 'nan', 4069: 'Mexicana', 4074: 'Turca', 4079: 'nan', 4082: 'nan', 4091: 'Española', 4095: 'Española', 4104: 'nan', 4108: 'nan', 4113: 'nan', 4119: 'Café', 4123: 'Mediterránea', 4126: 'Bar', 4134: 'Café', 4146: 'nan', 4149: 'nan', 4154: 'Sushi', 4155: 'Mexicana', 4156: 'Española', 4157: 'nan', 4158: 'Asiática', 4160: 'Japonesa', 4161: 'nan', 4162: 'Café', 4164: 'nan', 4165: 'Peruana', 4172: 'Española', 4174: 'nan', 4180: 'Americana', 4182: 'nan', 4196: 'Internacional', 4200: 'Asiática', 4205: 'Libanesa', 4207: 'Española', 4208: 'Mediterránea', 4211: 'nan', 4216: 'nan', 4224: 'nan', 4225: 'Europea', 4226: 'nan', 4227: 'Americana', 4234: 'nan', 4237: 'Española', 4242: 'Española', 4254: 'Bar', 4257: 'nan', 4260: 'Comida rápida', 4270: 'Australiana', 4271: 'China', 4274: 'Libanesa', 4282: 'Bar', 4283: 'nan', 4286: 'Española', 4287: 'Española', 4293: 'nan', 4294: 'China', 4296: 'Saludable', 4298: 'Española', 4299: 'Mediterránea', 4303: 'Sudamericana', 4304: 'Japonesa', 4305: 'nan', 4310: 'nan', 4311: 'nan', 4312: 'Italiana', 4319: 'Española', 4330: 'Asiática', 4333: 'Japonesa', 4336: 'Sushi', 4339: 'nan', 4342: 'nan', 4344: 'Turca', 4352: 'nan', 4354: 'nan', 4357: 'nan', 4360: 'Café', 4370: 'nan', 4372: 'nan', 4374: 'Mediterránea', 4379: 'Hawaiana', 4380: 'Española', 4393: 'nan', 4394: 'nan', 4398: 'Mediterránea', 4400: 'Turca', 4402: 'nan', 4403: 'Comida rápida', 4405: 'nan', 4406: 'Marisco', 4408: 'Mediterránea', 4409: 'Mediterránea', 4413: 'Española', 4417: 'Restaurante de carne', 4420: 'Turca', 4423: 'Bar', 4424: 'nan', 4435: 'Española', 4436: 'Mediterránea', 4440: 'Española', 4441: 'Italiana', 4442: 'Comida rápida', 4446: 'Italiana', 4447: 'Peruana', 4451: 'nan', 4467: 'Bar', 4470: 'Mediterránea', 4471: 'Italiana', 4473: 'nan', 4475: 'nan', 4477: 'Española', 4485: 'nan', 4488: 'Americana', 4490: 'nan', 4496: 'nan', 4503: 'Española', 4508: 'Caribeña', 4515: 'nan', 4516: 'nan', 4518: 'nan', 4521: 'nan', 4524: 'nan', 4526: 'Sushi', 4531: 'Bar', 4536: 'Española', 4538: 'Española', 4551: 'Restaurante de carne', 4553: 'Española', 4557: 'Internacional', 4558: 'nan', 4561: 'nan', 4562: 'nan', 4564: 'nan', 4566: 'Española', 4571: 'Americana', 4572: 'nan', 4578: 'Española', 4579: 'nan', 4584: 'Española', 4589: 'Española', 4591: 'Tienda gourmet', 4592: 'Italiana', 4594: 'Mediterránea', 4597: 'Española', 4598: 'nan', 4605: 'nan', 4607: 'Española', 4608: 'Española', 4610: 'Café', 4613: 'nan', 4617: 'Española', 4620: 'Restaurante de carne', 4630: 'Peruana', 4631: 'Española', 4633: 'Italiana', 4634: 'Española', 4635: 'Francesa', 4636: 'nan', 4641: 'nan', 4650: 'nan', 4657: 'nan', 4663: 'nan', 4664: 'nan', 4665: 'nan', 4668: 'nan', 4673: 'Bar', 4675: 'Mexicana', 4680: 'Americana', 4688: 'Bar', 4699: 'nan', 4700: 'Española', 4701: 'Japonesa', 4702: 'nan', 4705: 'Española', 4707: 'Española', 4708: 'Mediterránea', 4712: 'Mexicana', 4713: 'Italiana', 4720: 'nan', 4723: 'Asiática', 4727: 'nan', 4735: 'nan', 4739: 'Venezolana', 4755: 'Marisco', 4758: 'Española', 4759: 'nan', 4763: 'Española', 4776: 'Irlandesa', 4783: 'Americana', 4784: 'Argentina', 4788: 'Española', 4790: 'Mediterránea', 4791: 'nan', 4795: 'Comida rápida', 4802: 'nan', 4811: 'Española', 4816: 'Libanesa', 4817: 'Italiana', 4818: 'Española', 4821: 'Italiana', 4822: 'Marisco', 4823: 'Española', 4827: 'nan', 4832: 'nan', 4842: 'Mexicana', 4843: 'nan', 4844: 'nan', 4845: 'nan', 4867: 'nan', 4869: 'Sushi', 4875: 'Española', 4878: 'Street food / Comida en la calle', 4880: 'Mediterránea', 4882: 'Turca', 4891: 'Argentina', 4893: 'nan', 4901: 'nan', 4902: 'nan', 4904: 'nan', 4906: 'China', 4907: 'nan', 4913: 'nan', 4914: 'Suiza', 4926: 'Bar', 4931: 'Italiana', 4932: 'Pizza', 4934: 'Bar', 4935: 'Española', 4938: 'Mediterránea', 4939: 'Española', 4940: 'Italiana', 4942: 'Española', 4952: 'Española', 4957: 'nan', 4958: 'nan', 4966: 'China', 4968: 'Española', 4969: 'nan', 4970: 'Mediterránea', 4971: 'nan', 4972: 'Peruana', 4973: 'nan', 4974: 'Mexicana', 4981: 'China', 4985: 'Mediterránea', 4990: 'nan', 4992: 'nan', 4995: 'nan', 4997: 'Española', 5005: 'nan', 5021: 'nan', 5022: 'nan', 5035: 'Española', 5036: 'Café', 5044: 'nan', 5054: 'Española', 5055: 'Española', 5062: 'Española', 5063: 'Japonesa', 5064: 'nan', 5073: 'nan', 5074: 'Europea', 5079: 'Italiana', 5080: 'nan', 5083: 'Española', 5091: 'Mexicana', 5092: 'China', 5093: 'nan', 5094: 'nan', 5095: 'nan', 5099: 'Mexicana', 5102: 'Mediterránea', 5108: 'Española', 5118: 'Comedor', 5119: 'Comida rápida', 5122: 'Japonesa', 5126: 'Internacional', 5127: 'nan', 5132: 'Mediterránea', 5137: 'nan', 5140: 'Comida rápida', 5141: 'nan', 5142: 'nan', 5145: 'Bar', 5147: 'nan', 5149: 'nan', 5152: 'Bar', 5162: 'Asiática', 5168: 'Internacional', 5169: 'Española', 5170: 'nan', 5172: 'nan', 5178: 'Española', 5179: 'Española', 5181: 'nan', 5182: 'Bar', 5186: 'Mediterránea', 5191: 'nan', 5194: 'Mediterránea', 5196: 'Café', 5202: 'Café', 5206: 'Francesa', 5208: 'nan', 5209: 'Española', 5213: 'nan', 5214: 'nan', 5216: 'Americana', 5218: 'Española', 5220: 'Italiana', 5224: 'nan', 5226: 'Mediterránea', 5233: 'Española', 5236: 'Española', 5239: 'nan', 5246: 'Española', 5248: 'nan', 5249: 'Tentempiés', 5250: 'Pizza', 5251: 'nan', 5254: 'Latina', 5256: 'nan', 5257: 'Americana', 5260: 'nan', 5268: 'Americana', 5270: 'nan', 5272: 'nan', 5273: 'nan', 5281: 'Mediterránea', 5283: 'Pizza', 5285: 'nan', 5286: 'Española', 5287: 'nan', 5293: 'nan', 5299: 'nan', 5303: 'Italiana', 5308: 'nan', 5312: 'Café', 5315: 'Americana', 5316: 'Mexicana', 5321: 'nan', 5328: 'nan', 5329: 'Sushi', 5334: 'Mediterránea', 5339: 'Japonesa', 5340: 'nan', 5341: 'Española', 5344: 'Mexicana', 5352: 'nan', 5354: 'Japonesa', 5356: 'nan', 5358: 'nan', 5360: 'nan', 5361: 'nan', 5364: 'nan', 5368: 'nan', 5369: 'nan', 5370: 'nan', 5376: 'nan', 5389: 'nan', 5393: 'Argentina', 5395: 'Mexicana', 5397: 'Italiana', 5400: 'Japonesa', 5401: 'nan', 5404: 'Tailandesa', 5405: 'nan', 5406: 'Española', 5407: 'Mexicana', 5411: 'Internacional', 5412: 'Española', 5421: 'nan', 5424: 'Mexicana', 5427: 'nan', 5428: 'Café', 5429: 'Española', 5430: 'nan', 5432: 'nan', 5434: 'Bar', 5435: 'nan', 5436: 'Caribeña', 5437: 'nan', 5441: 'nan', 5442: 'Española', 5443: 'China', 5445: 'Española', 5454: 'Mexicana', 5458: 'nan', 5462: 'nan', 5472: 'Mediterránea', 5473: 'nan', 5474: 'Española', 5479: 'nan', 5486: 'nan', 5489: 'nan', 5492: 'Japonesa', 5497: 'nan', 5503: 'nan', 5507: 'Americana', 5509: 'Española', 5511: 'nan', 5515: 'nan', 5519: 'nan', 5524: 'nan', 5525: 'nan', 5526: 'nan', 5531: 'Alemana', 5532: 'Sudamericana', 5537: 'Bar', 5538: 'Argentina', 5540: 'Bar', 5545: 'Americana', 5546: 'Restaurante de carne', 5547: 'Sudamericana', 5549: 'Europea', 5559: 'Café', 5566: 'Saludable', 5577: 'nan', 5589: 'nan', 5591: 'nan', 5593: 'Pizza', 5596: 'Mediterránea', 5597: 'Francesa', 5599: 'Mediterránea', 5601: 'nan', 5602: 'nan', 5604: 'Italiana', 5605: 'Bar', 5614: 'nan', 5618: 'Española', 5629: 'Americana', 5632: 'nan', 5633: 'China', 5634: 'Peruana', 5641: 'Italiana', 5645: 'Española', 5646: 'Americana', 5655: 'Argentina', 5657: 'nan', 5660: 'nan', 5666: 'China', 5670: 'nan', 5672: 'Pub', 5679: 'Española', 5680: 'Argentina', 5681: 'Fusión', 5682: 'Latina', 5687: 'nan', 5689: 'nan', 5695: 'Mediterránea', 5696: 'Internacional', 5703: 'nan', 5710: 'nan', 5711: 'Internacional', 5716: 'nan', 5718: 'Española', 5724: 'Americana', 5727: 'Española', 5730: 'Mediterránea', 5733: 'nan', 5738: 'Pub con cerveza artesanal', 5741: 'nan', 5749: 'Española', 5751: 'Española', 5752: 'Chilena', 5754: 'Italiana', 5755: 'Argentina', 5756: 'nan', 5765: 'Bar', 5768: 'nan', 5769: 'Americana', 5773: 'Japonesa', 5777: 'nan', 5781: 'nan', 5783: 'Mediterránea', 5788: 'Peruana', 5789: 'nan', 5790: 'nan', 5807: 'Peruana', 5812: 'Comida rápida', 5816: 'nan', 5817: 'China', 5818: 'Comida rápida', 5821: 'nan', 5831: 'Café', 5832: 'nan', 5834: 'Italiana', 5839: 'Bar', 5842: 'nan', 5844: 'Europea', 5845: 'Española', 5847: 'Bar', 5849: 'nan', 5851: 'Pizza', 5853: 'India', 5861: 'Pizza', 5863: 'Café', 5876: 'Italiana', 5877: 'nan', 5878: 'nan', 5879: 'Española', 5880: 'nan', 5882: 'Española', 5884: 'Española', 5888: 'nan', 5893: 'Italiana', 5896: 'Española', 5898: 'Española', 5899: 'Turca', 5901: 'Comida rápida', 5903: 'Sudamericana', 5909: 'nan', 5911: 'Italiana', 5917: 'Mediterránea', 5919: 'Española', 5921: 'China', 5927: 'Española', 5928: 'Española', 5931: 'Restaurante de carne', 5935: 'nan', 5939: 'Española', 5941: 'Española', 5945: 'China', 5947: 'nan', 5949: 'Americana', 5956: 'nan', 5958: 'Europea', 5959: 'China', 5968: 'Española', 5969: 'nan', 5971: 'Venezolana', 5976: 'Española', 5977: 'Italiana', 5982: 'Española', 5990: 'Bar', 5996: 'nan', 5998: 'Española', 6001: 'nan', 6002: 'nan', 6004: 'Italiana', 6005: 'Bar', 6014: 'nan', 6018: 'Española', 6029: 'Americana', 6032: 'nan', 6033: 'China', 6034: 'Peruana', 6041: 'Italiana', 6045: 'Española', 6046: 'Americana', 6055: 'Argentina', 6057: 'nan', 6060: 'nan', 6066: 'China', 6070: 'nan', 6072: 'Pub', 6079: 'Española', 6080: 'Argentina', 6081: 'Fusión', 6082: 'Latina', 6087: 'nan', 6089: 'nan', 6095: 'Mediterránea', 6096: 'Internacional', 6103: 'nan', 6110: 'nan', 6111: 'Internacional', 6116: 'nan', 6118: 'Española', 6124: 'Americana', 6127: 'Española', 6130: 'Mediterránea', 6133: 'nan', 6138: 'Pub con cerveza artesanal', 6141: 'nan', 6149: 'Española', 6151: 'Española', 6152: 'Chilena', 6154: 'Italiana', 6155: 'Argentina', 6156: 'nan', 6165: 'Bar', 6168: 'nan', 6169: 'Americana', 6173: 'Japonesa', 6177: 'nan', 6181: 'nan', 6183: 'Mediterránea', 6188: 'Peruana', 6189: 'nan', 6190: 'nan', 6200: 'nan', 6203: 'nan', 6204: 'nan', 6206: 'nan', 6208: 'Asiática', 6211: 'nan', 6212: 'nan', 6213: 'nan', 6218: 'nan', 6220: 'China', 6225: 'Mediterránea', 6229: 'Bares para comer', 6231: 'nan', 6232: 'nan', 6235: 'India', 6236: 'nan', 6239: 'Marisco', 6243: 'nan', 6249: 'Café', 6251: 'Española', 6252: 'Café', 6256: 'nan', 6257: 'Española', 6258: 'nan', 6263: 'nan', 6267: 'nan', 6271: 'Española', 6275: 'Española', 6279: 'Pizza', 6282: 'nan', 6284: 'nan', 6286: 'Japonesa', 6292: 'nan', 6293: 'nan', 6295: 'nan', 6296: 'Española', 6299: 'Española', 6300: 'Americana', 6302: 'nan', 6303: 'nan', 6304: 'nan', 6305: 'nan', 6307: 'nan', 6314: 'nan', 6322: 'Mediterránea', 6323: 'Pizza', 6324: 'nan', 6327: 'nan', 6328: 'nan', 6330: 'Mexicana', 6342: 'nan', 6343: 'Belga', 6348: 'nan', 6350: 'Italiana', 6354: 'Venezolana', 6355: 'nan', 6356: 'Española', 6357: 'Española', 6358: 'nan', 6361: 'Española', 6364: 'nan', 6368: 'nan', 6370: 'Italiana', 6375: 'nan', 6378: 'Española', 6383: 'nan', 6389: 'Pizza', 6399: 'Bar', 6400: 'nan', 6402: 'Española', 6406: 'nan', 6408: 'Internacional', 6413: 'Café', 6415: 'Pizza', 6418: 'nan', 6424: 'Española', 6426: 'Peruana', 6434: 'Española', 6444: 'Italiana', 6449: 'Americana', 6454: 'Española', 6456: 'nan', 6460: 'Española', 6461: 'nan', 6463: 'Americana', 6464: 'Italiana', 6469: 'Japonesa', 6470: 'Española', 6473: 'Comida rápida', 6474: 'nan', 6475: 'Caribeña', 6480: 'nan', 6481: 'Mediterránea', 6484: 'Mediterránea', 6486: 'Peruana', 6488: 'nan', 6490: 'nan', 6493: 'Internacional', 6494: 'Japonesa', 6495: 'Mediterránea', 6498: 'Bar', 6500: 'nan', 6507: 'nan', 6508: 'nan', 6509: 'nan', 6511: 'nan', 6513: 'Latina', 6516: 'Turca', 6517: 'nan', 6521: 'Contemporánea', 6523: 'nan', 6532: 'Peruana', 6533: 'Mexicana', 6534: 'nan', 6538: 'Internacional', 6540: 'nan', 6542: 'nan', 6546: 'nan', 6549: 'Mediterránea', 6563: 'Bar', 6565: 'nan', 6566: 'nan', 6567: 'nan', 6571: 'nan', 6576: 'nan', 6580: 'nan', 6581: 'Española', 6582: 'nan', 6585: 'China', 6586: 'Mexicana', 6588: 'nan', 6589: 'nan', 6595: 'Mediterránea', 6601: 'Española', 6602: 'nan', 6605: 'nan', 6607: 'Mediterránea', 6609: 'Española', 6610: 'Española', 6611: 'Bar', 6616: 'Argentina', 6618: 'nan', 6622: 'nan', 6623: 'nan', 6626: 'Española', 6628: 'nan', 6636: 'Saludable', 6638: 'Tailandesa', 6644: 'nan', 6645: 'nan', 6654: 'nan', 6655: 'Comida rápida', 6663: 'nan', 6666: 'Europea', 6667: 'China', 6669: 'Española', 6679: 'nan', 6682: 'Española', 6687: 'Mediterránea', 6688: 'Bar', 6694: 'Contemporánea', 6696: 'Bar', 6697: 'Española', 6699: 'nan', 6705: 'Pizza', 6706: 'nan', 6708: 'nan', 6713: 'nan', 6716: 'nan', 6717: 'Española', 6718: 'nan', 6721: 'Española', 6723: 'Mediterránea', 6725: 'Filipina', 6726: 'Española', 6730: 'nan', 6732: 'nan', 6734: 'Americana', 6737: 'Española', 6738: 'nan', 6740: 'nan', 6742: 'nan', 6747: 'Latina', 6749: 'nan', 6755: 'Asiática', 6758: 'Mediterránea', 6761: 'Bar', 6763: 'nan', 6773: 'nan', 6786: 'nan', 6797: 'Española', 6801: 'Americana', 6805: 'Mediterránea', 6808: 'China', 6814: 'Mediterránea', 6816: 'nan', 6826: 'Española', 6829: 'Marisco', 6841: 'nan', 6843: 'Española', 6850: 'nan', 6854: 'Mediterránea', 6855: 'Italiana', 6857: 'Española', 6867: 'Bar', 6870: 'nan', 6880: 'nan', 6884: 'Japonesa', 6886: 'nan', 6889: 'Mexicana', 6890: 'nan', 6891: 'Marroquí', 6895: 'nan', 6900: 'nan', 6903: 'Mediterránea', 6910: 'China', 6912: 'Española', 6916: 'Española', 6917: 'Española', 6924: 'Restaurante de carne', 6927: 'Española', 6930: 'Bar', 6934: 'Española', 6937: 'nan', 6939: 'Argentina', 6941: 'nan', 6942: 'Comida rápida', 6958: 'Internacional', 6966: 'nan', 6968: 'Pizza', 6970: 'nan', 6971: 'nan', 6975: 'Latina', 6980: 'Mediterránea', 6983: 'Española', 6984: 'Española', 6988: 'nan', 6989: 'Pub con cerveza artesanal', 6990: 'Europea', 6991: 'nan', 6998: 'Española', 7002: 'Mediterránea', 7003: 'Mediterránea', 7007: 'nan', 7008: 'Asiática', 7015: 'nan', 7016: 'Bar', 7017: 'China', 7024: 'Peruana', 7025: 'nan', 7033: 'Americana', 7036: 'nan', 7037: 'Mediterránea', 7041: 'nan', 7042: 'Italiana', 7043: 'Argentina', 7046: 'nan', 7049: 'nan', 7050: 'Mexicana', 7051: 'nan', 7056: 'Mediterránea', 7069: 'Mediterránea', 7071: 'nan', 7072: 'nan', 7073: 'nan', 7080: 'Japonesa', 7084: 'Mediterránea', 7089: 'Argentina', 7091: 'Española', 7098: 'Americana', 7099: 'nan', 7101: 'Española', 7102: 'nan', 7109: 'Bar', 7110: 'Española', 7111: 'Española', 7113: 'nan', 7116: 'nan', 7119: 'Mediterránea', 7121: 'Bar', 7124: 'Americana', 7125: 'nan', 7129: 'nan', 7135: 'nan', 7138: 'Café', 7139: 'Española', 7142: 'Turca', 7148: 'nan', 7149: 'Venezolana', 7151: 'Española', 7152: 'Latina', 7153: 'Pub con cerveza artesanal', 7159: 'nan', 7161: 'Italiana', 7163: 'Mediterránea', 7168: 'nan', 7174: 'Americana', 7176: 'nan', 7177: 'nan', 7179: 'nan', 7188: 'Española', 7191: 'nan', 7192: 'Bar', 7201: 'Brasileña', 7203: 'Americana', 7208: 'Pub con cerveza artesanal', 7216: 'nan', 7217: 'nan', 7220: 'Española', 7221: 'Internacional', 7230: 'Comida rápida', 7232: 'Española', 7237: 'Americana', 7242: 'Marisco', 7243: 'Bar', 7244: 'China', 7247: 'nan', 7251: 'Alemana', 7253: 'Internacional', 7255: 'Sushi', 7260: 'Peruana', 7267: 'China', 7268: 'Americana', 7270: 'Japonesa', 7276: 'nan', 7277: 'nan', 7282: 'nan', 7284: 'Italiana', 7287: 'Bar', 7288: 'Japonesa', 7290: 'China', 7292: 'Asiática', 7294: 'Internacional', 7296: 'nan', 7301: 'nan', 7307: 'nan', 7310: 'Italiana', 7315: 'Mediterránea', 7316: 'nan', 7338: 'nan', 7339: 'Comida rápida', 7342: 'nan', 7350: 'nan', 7354: 'nan', 7355: 'Española', 7357: 'nan', 7363: 'China', 7367: 'Española', 7370: 'nan', 7375: 'Española', 7383: 'Española', 7385: 'nan', 7392: 'nan', 7395: 'nan', 7398: 'nan', 7400: 'Mediterránea', 7414: 'Italiana', 7419: 'Española', 7420: 'nan', 7422: 'China', 7427: 'Italiana', 7429: 'Española', 7432: 'nan', 7435: 'nan', 7438: 'Mediterránea', 7439: 'Mediterránea', 7441: 'nan', 7443: 'Bar', 7453: 'Española', 7455: 'nan', 7456: 'nan', 7458: 'Café', 7460: 'Japonesa', 7469: 'Americana', 7471: 'Café', 7475: 'Francesa', 7478: 'nan', 7484: 'nan', 7485: 'Turca', 7486: 'Internacional', 7492: 'Argentina', 7494: 'nan', 7496: 'nan', 7497: 'Italiana', 7499: 'Mediterránea', 7504: 'nan', 7505: 'Bar', 7510: 'Española', 7513: 'Mediterránea', 7514: 'Española', 7515: 'Española', 7521: 'nan', 7523: 'Tailandesa', 7524: 'nan', 7526: 'Mediterránea', 7528: 'Pub con cerveza artesanal', 7531: 'nan', 7532: 'Bar', 7533: 'Italiana', 7545: 'Café', 7563: 'Española', 7566: 'Americana', 7571: 'Francesa', 7578: 'nan', 7583: 'Saludable', 7585: 'Bar', 7587: 'nan', 7590: 'nan', 7591: 'Café', 7593: 'nan', 7595: 'nan', 7601: 'nan', 7603: 'Española', 7608: 'Café', 7615: 'nan', 7616: 'Pizza', 7618: 'Española', 7622: 'nan', 7623: 'nan', 7624: 'nan', 7629: 'nan', 7630: 'nan', 7631: 'Internacional', 7633: 'nan', 7634: 'Alemana', 7635: 'nan', 7638: 'nan', 7639: 'Argentina', 7640: 'nan', 7642: 'nan', 7643: 'nan', 7652: 'Americana', 7655: 'nan', 7656: 'Fusión', 7659: 'nan', 7663: 'Española', 7664: 'Pizza', 7666: 'Francesa', 7668: 'Japonesa', 7673: 'nan', 7674: 'nan', 7695: 'nan', 7696: 'Española', 7698: 'Española', 7701: 'India', 7717: 'Española', 7720: 'nan', 7722: 'nan', 7723: 'nan', 7736: 'nan', 7737: 'Española', 7739: 'Libanesa', 7743: 'nan', 7744: 'nan', 7746: 'nan', 7748: 'Española', 7753: 'Española', 7758: 'Asiática', 7762: 'nan', 7763: 'Española', 7764: 'Americana', 7766: 'Bar', 7769: 'nan', 7780: 'nan', 7781: 'nan', 7782: 'Bar', 7784: 'Bar', 7785: 'Mexicana', 7788: 'nan', 7792: 'nan', 7793: 'Española', 7794: 'Mediterránea', 7795: 'nan', 7797: 'nan', 7801: 'Bar', 7802: 'nan', 7805: 'Americana', 7810: 'nan', 7811: 'nan', 7812: 'nan', 7816: 'Pizza', 7818: 'Japonesa', 7822: 'Española', 7829: 'Bar', 7836: 'Mediterránea', 7838: 'Pizza', 7842: 'Española', 7846: 'Española', 7847: 'Argentina', 7848: 'Española', 7852: 'Asiática', 7853: 'Mediterránea', 7856: 'Caribeña', 7860: 'nan', 7863: 'nan', 7865: 'nan', 7867: 'nan', 7873: 'Pizza', 7883: 'nan', 7885: 'Española', 7886: 'Europea', 7890: 'Mediterránea', 7891: 'nan', 7895: 'nan', 7898: 'Española', 7907: 'nan', 7935: 'nan', 7936: 'Restaurante de carne', 7941: 'Pub con cerveza artesanal', 7945: 'Española', 7946: 'Contemporánea', 7948: 'nan', 7958: 'nan', 7966: 'Española', 7970: 'nan', 7973: 'Japonesa', 7976: 'Española', 7979: 'nan', 7981: 'Española', 7992: 'Americana', 7994: 'Mediterránea', 8001: 'nan', 8002: 'Internacional', 8004: 'nan', 8007: 'Bar', 8008: 'Mediterránea', 8010: 'nan', 8011: 'Bar', 8013: 'nan', 8023: 'Española', 8026: 'Barbacoa', 8027: 'nan', 8031: 'nan', 8035: 'nan', 8036: 'India', 8037: 'nan', 8040: 'nan', 8043: 'Comida rápida', 8044: 'Española', 8045: 'Internacional', 8046: 'Bar', 8047: 'nan', 8048: 'Comida rápida', 8049: 'Mediterránea', 8050: 'Peruana', 8051: 'nan', 8052: 'Española', 8053: 'Argentina', 8056: 'nan', 8057: 'Española', 8058: 'Peruana', 8068: 'nan', 8069: 'Café', 8072: 'Española', 8080: 'Española', 8081: 'nan', 8083: 'nan', 8088: 'nan', 8091: 'Española', 8095: 'nan', 8107: 'nan', 8110: 'nan', 8112: 'nan', 8116: 'Argentina', 8117: 'Italiana', 8120: 'nan', 8125: 'nan', 8127: 'nan', 8130: 'Mediterránea', 8131: 'nan', 8133: 'China', 8135: 'nan', 8142: 'Café', 8143: 'Italiana', 8145: 'Española', 8149: 'Mediterránea', 8156: 'Española', 8157: 'Española', 8158: 'China', 8161: 'nan', 8164: 'Griega', 8171: 'nan', 8177: 'nan', 8178: 'Marisco', 8183: 'nan', 8186: 'Café', 8187: 'China', 8189: 'Internacional', 8190: 'Restaurante de carne', 8192: 'nan', 8195: 'Café', 8196: 'nan', 8200: 'nan', 8204: 'Italiana', 8208: 'Española', 8210: 'nan', 8214: 'nan', 8217: 'Asiática', 8221: 'Café', 8235: 'Española', 8238: 'Americana', 8241: 'nan', 8242: 'nan', 8246: 'Española', 8253: 'Francesa', 8254: 'Española', 8258: 'nan', 8260: 'Restaurante de carne', 8265: 'Bar', 8266: 'Española', 8267: 'Mediterránea', 8270: 'Libanesa', 8273: 'Café', 8278: 'Barbacoa', 8281: 'Española', 8284: 'nan', 8288: 'Española', 8291: 'India', 8302: 'Europea', 8308: 'nan', 8310: 'Italiana', 8315: 'nan', 8316: 'nan', 8321: 'Española', 8322: 'nan', 8325: 'nan', 8326: 'Mexicana', 8327: 'nan', 8344: 'Española', 8348: 'Peruana', 8350: 'Italiana', 8354: 'nan', 8355: 'Bar', 8356: 'China', 8357: 'Marisco', 8359: 'nan', 8361: 'Japonesa', 8362: 'nan', 8363: 'Argentina', 8365: 'nan', 8367: 'Mexicana', 8375: 'nan', 8377: 'Argentina', 8385: 'Mexicana', 8386: 'Pizza', 8393: 'nan', 8395: 'nan', 8398: 'Café', 8404: 'Argentina', 8405: 'nan', 8411: 'Española', 8414: 'Española', 8416: 'Española', 8422: 'Española', 8427: 'Mediterránea', 8428: 'nan', 8437: 'Turca', 8440: 'Café', 8452: 'nan', 8454: 'nan', 8455: 'nan', 8457: 'Fusión', 8459: 'nan', 8461: 'nan', 8464: 'Española', 8468: 'Española', 8469: 'Mediterránea', 8470: 'Mediterránea', 8475: 'nan', 8476: 'nan', 8489: 'nan', 8492: 'Mediterránea', 8493: 'Española', 8494: 'Española', 8496: 'Peruana', 8502: 'Italiana', 8503: 'Pizza', 8504: 'nan', 8506: 'Española', 8507: 'nan', 8509: 'nan', 8515: 'Americana', 8523: 'Española', 8530: 'nan', 8536: 'nan', 8538: 'Española', 8542: 'nan', 8546: 'nan', 8547: 'Barbacoa', 8550: 'Española', 8552: 'nan', 8553: 'nan', 8556: 'Mexicana', 8558: 'Italiana', 8560: 'Marisco', 8562: 'Italiana', 8567: 'Café', 8573: 'Alemana', 8574: 'nan', 8576: 'China', 8577: 'Española', 8580: 'Internacional', 8585: 'Española', 8588: 'Bar', 8591: 'nan', 8594: 'nan', 8596: 'Mediterránea', 8602: 'nan', 8606: 'nan', 8607: 'Americana', 8608: 'Española', 8621: 'nan', 8622: 'Mediterránea', 8624: 'Europea', 8627: 'Pub con cerveza artesanal', 8630: 'Mediterránea', 8634: 'Italiana', 8640: 'Pizza', 8646: 'Mediterránea', 8650: 'Pub', 8658: 'Española', 8659: 'Japonesa', 8666: 'nan', 8667: 'nan', 8668: 'Marisco', 8672: 'nan', 8673: 'Turca', 8676: 'Española', 8677: 'Española', 8689: 'Española', 8692: 'Española', 8697: 'nan', 8699: 'Mexicana', 8702: 'Comida rápida', 8707: 'Mediterránea', 8708: 'Mediterránea', 8709: 'nan', 8710: 'Española', 8715: 'Americana', 8717: 'nan', 8718: 'nan', 8719: 'Europea', 8721: 'Española', 8723: 'nan', 8725: 'Española', 8726: 'Sushi', 8735: 'nan', 8737: 'Española', 8739: 'nan', 8740: 'Sudamericana', 8741: 'nan', 8742: 'Española', 8746: 'Española', 8749: 'Española', 8754: 'nan', 8755: 'Café', 8759: 'Española', 8763: 'Mediterránea', 8764: 'Comida rápida', 8765: 'Japonesa', 8784: 'Española', 8790: 'nan', 8795: 'Mexicana', 8796: 'Americana', 8797: 'Italiana', 8798: 'Mediterránea', 8801: 'nan', 8804: 'Española', 8806: 'Japonesa', 8808: 'nan', 8813: 'nan', 8820: 'Española', 8823: 'nan', 8825: 'Barbacoa', 8829: 'Pizza', 8832: 'nan', 8835: 'nan', 8839: 'nan', 8843: 'Comida rápida', 8846: 'Bar', 8851: 'nan', 8858: 'nan', 8860: 'China', 8865: 'nan', 8869: 'nan', 8874: 'Africana', 8877: 'China', 8888: 'Mediterránea', 8902: 'Pub con cerveza artesanal', 8904: 'Española', 8913: 'nan', 8914: 'nan', 8915: 'Española', 8918: 'nan', 8928: 'nan', 8929: 'nan', 8934: 'Española', 8935: 'Española', 8936: 'Mediterránea', 8939: 'nan', 8940: 'Española', 8944: 'Mediterránea', 8946: 'Pizza', 8950: 'Hawaiana', 8959: 'nan', 8960: 'nan', 8961: 'Japonesa', 8962: 'China', 8971: 'nan', 8973: 'Tailandesa', 8977: 'nan', 8982: 'Italiana', 8985: 'nan', 8999: 'Mediterránea', 9000: 'Caribeña', 9002: 'Italiana', 9006: 'nan', 9007: 'Bar', 9009: 'Española', 9011: 'China', 9019: 'Café', 9020: 'nan', 9021: 'nan', 9025: 'China', 9027: 'Fusión japonesa', 9030: 'nan', 9034: 'Mediterránea', 9036: 'Asiática', 9040: 'nan', 9041: 'Americana', 9044: 'Bar', 9050: 'Española', 9051: 'nan', 9056: 'Sudamericana', 9061: 'Pub con cerveza artesanal', 9071: 'Hawaiana', 9075: 'Española', 9080: 'China', 9081: 'Caribeña', 9083: 'Mexicana', 9085: 'Peruana', 9096: 'Española', 9099: 'Europea', 9101: 'Mediterránea', 9109: 'Japonesa', 9120: 'Española', 9122: 'nan', 9130: 'Internacional', 9133: 'Sudamericana', 9136: 'Española', 9137: 'nan', 9138: 'nan', 9140: 'Española', 9141: 'nan', 9142: 'Española', 9143: 'nan', 9146: 'Española', 9147: 'Española', 9152: 'Italiana', 9155: 'Bar', 9157: 'Marroquí', 9158: 'China', 9164: 'Pizza', 9167: 'Comida rápida', 9170: 'nan', 9176: 'Española', 9177: 'nan', 9178: 'nan', 9180: 'Europea', 9187: 'Comida rápida', 9195: 'Bar', 9199: 'Bar', 9201: 'Americana', 9203: 'Mediterránea', 9204: 'Española', 9205: 'Española', 9206: 'nan', 9210: 'nan', 9212: 'nan', 9217: 'nan', 9221: 'Española', 9226: 'India', 9227: 'nan', 9228: 'Asiática', 9229: 'Café', 9230: 'Española', 9232: 'Street food / Comida en la calle', 9242: 'nan', 9243: 'Marisco', 9247: 'nan', 9248: 'Española', 9251: 'nan', 9252: 'nan', 9253: 'Española', 9259: 'Española', 9261: 'nan', 9262: 'nan', 9267: 'Española', 9278: 'nan', 9279: 'Española', 9280: 'Peruana', 9283: 'Española', 9284: 'Española', 9285: 'nan', 9288: 'Marisco', 9290: 'Italiana', 9294: 'nan', 9298: 'Argentina', 9299: 'nan', 9305: 'nan', 9311: 'nan', 9312: 'Italiana', 9315: 'Turca', 9320: 'Bar', 9322: 'Bar', 9325: 'nan', 9327: 'Española', 9330: 'nan', 9337: 'Mediterránea', 9338: 'Argentina', 9339: 'Europea', 9340: 'nan', 9342: 'nan', 9347: 'nan', 9348: 'nan', 9353: 'Mexicana', 9355: 'Mediterránea', 9366: 'nan', 9368: 'Japonesa', 9371: 'Francesa', 9374: 'nan', 9380: 'Latina', 9387: 'nan', 9391: 'nan', 9394: 'Pizza', 9395: 'Pub con cerveza artesanal', 9400: 'Venezolana', 9409: 'Española', 9412: 'Española', 9415: 'Americana', 9416: 'India', 9420: 'Americana', 9421: 'nan', 9428: 'Española', 9430: 'Japonesa', 9431: 'nan', 9433: 'Europea', 9434: 'Bar', 9435: 'Española', 9441: 'nan', 9446: 'Japonesa', 9447: 'nan', 9451: 'nan', 9455: 'nan', 9466: 'nan', 9468: 'nan', 9469: 'nan', 9471: 'nan', 9473: 'Americana', 9474: 'Española', 9476: 'Española', 9477: 'nan', 9486: 'nan', 9488: 'Café', 9490: 'Española', 9493: 'nan', 9503: 'Mediterránea', 9509: 'nan', 9510: 'nan', 9511: 'nan', 9516: 'nan', 9517: 'nan', 9518: 'nan', 9522: 'nan', 9524: 'Española', 9525: 'nan', 9528: 'Bar', 9530: 'nan', 9536: 'nan', 9538: 'Bar', 9541: 'Argentina', 9545: 'Bar', 9552: 'Bar', 9555: 'Española', 9562: 'nan', 9567: 'nan', 9572: 'Japonesa', 9574: 'Italiana', 9581: 'Española', 9584: 'Americana', 9586: 'nan', 9597: 'Española', 9598: 'Española', 9604: 'Saludable', 9605: 'nan', 9609: 'Saludable', 9614: 'nan', 9626: 'Española', 9627: 'China', 9631: 'nan', 9636: 'Española', 9648: 'Americana', 9652: 'nan', 9653: 'Bar', 9654: 'Española', 9655: 'Café', 9656: 'nan', 9665: 'nan', 9669: 'Pizza', 9670: 'Española', 9671: 'nan', 9672: 'Española', 9673: 'nan', 9676: 'Española', 9689: 'nan', 9693: 'Latina', 9702: 'Sushi', 9705: 'nan', 9707: 'Mediterránea', 9710: 'Italiana', 9711: 'China', 9712: 'nan', 9713: 'Mediterránea', 9714: 'nan', 9719: 'Mediterránea', 9724: 'Japonesa', 9728: 'nan', 9731: 'Pizza', 9736: 'nan', 9740: 'nan', 9741: 'Japonesa', 9742: 'Española', 9744: 'Restaurante de carne', 9747: 'Española', 9748: 'nan', 9753: 'Española', 9763: 'Mediterránea', 9764: 'nan', 9769: 'nan', 9770: 'nan', 9773: 'nan', 9776: 'nan', 9777: 'nan', 9781: 'nan', 9783: 'nan', 9790: 'Española', 9797: 'Española', 9807: 'nan', 9815: 'nan', 9819: 'Bar', 9823: 'Internacional', 9824: 'India', 9832: 'Española', 9837: 'nan', 9838: 'nan', 9839: 'nan', 9845: 'Española', 9847: 'Española', 9848: 'nan', 9854: 'nan', 9857: 'nan', 9864: 'Italiana', 9866: 'Europea'}\n"
     ]
    },
    {
     "data": {
      "text/plain": [
       "2773"
      ]
     },
     "execution_count": 9,
     "metadata": {},
     "output_type": "execute_result"
    }
   ],
   "source": [
    "#sustituir los valores de rango de precio que estan erroneos\n",
    "#\"€€ - €€€\" se sustituye el valor por un precio medio\n",
    "otros_tipococina={}\n",
    "for i, j in enumerate(df_Precio[\"Rango_precio\"]):\n",
    "    if j!=\"€\" and j!=\"€€ - €€€\" and j!=\"€€€€\":\n",
    "            otros_tipococina[i]= j\n",
    "            df_Precio[\"Rango_precio\"][i]=\"€€ - €€€\"#se sustituye el valor por un precio medio\n",
    " #Se almacena en un diccionario los tipos de cocina que por error estan en este df          \n",
    "print(otros_tipococina)     \n",
    "len(otros_tipococina)  "
   ]
  },
  {
   "cell_type": "code",
   "execution_count": 17,
   "id": "fdf1bfab",
   "metadata": {},
   "outputs": [],
   "source": [
    "lista_rangoprecio_actualizado=list(df_Precio[\"Rango_precio\"])\n"
   ]
  },
  {
   "cell_type": "code",
   "execution_count": 18,
   "id": "8eb4d437",
   "metadata": {},
   "outputs": [
    {
     "data": {
      "text/plain": [
       "list"
      ]
     },
     "execution_count": 18,
     "metadata": {},
     "output_type": "execute_result"
    }
   ],
   "source": [
    "type(lista_rangoprecio_actualizado)"
   ]
  },
  {
   "cell_type": "code",
   "execution_count": 19,
   "id": "85cc178c",
   "metadata": {},
   "outputs": [],
   "source": [
    "with open(\"Sources/lista_rangoprecio_actualizado\", 'wb') as archivo:\n",
    "    # Utiliza la función dump de pickle para guardar el objeto en el archivo\n",
    "    pickle.dump(lista_rangoprecio_actualizado, archivo)"
   ]
  },
  {
   "cell_type": "code",
   "execution_count": 10,
   "id": "b553ef38",
   "metadata": {
    "scrolled": false
   },
   "outputs": [
    {
     "data": {
      "text/html": [
       "<div>\n",
       "<style scoped>\n",
       "    .dataframe tbody tr th:only-of-type {\n",
       "        vertical-align: middle;\n",
       "    }\n",
       "\n",
       "    .dataframe tbody tr th {\n",
       "        vertical-align: top;\n",
       "    }\n",
       "\n",
       "    .dataframe thead th {\n",
       "        text-align: right;\n",
       "    }\n",
       "</style>\n",
       "<table border=\"1\" class=\"dataframe\">\n",
       "  <thead>\n",
       "    <tr style=\"text-align: right;\">\n",
       "      <th></th>\n",
       "      <th>Nombre</th>\n",
       "      <th>Rango_precio</th>\n",
       "      <th>Tipo_Cocina</th>\n",
       "    </tr>\n",
       "  </thead>\n",
       "  <tbody>\n",
       "    <tr>\n",
       "      <th>0</th>\n",
       "      <td>El Capote</td>\n",
       "      <td>€</td>\n",
       "      <td>['Española']</td>\n",
       "    </tr>\n",
       "    <tr>\n",
       "      <th>1</th>\n",
       "      <td>La Queda</td>\n",
       "      <td>€</td>\n",
       "      <td>['Española']</td>\n",
       "    </tr>\n",
       "    <tr>\n",
       "      <th>2</th>\n",
       "      <td>Limbo Tribunal</td>\n",
       "      <td>€€ - €€€</td>\n",
       "      <td>['Restaurante de carne', 'Barbacoa']</td>\n",
       "    </tr>\n",
       "    <tr>\n",
       "      <th>3</th>\n",
       "      <td>400 Grados Pizza - Maria de Molina</td>\n",
       "      <td>€€ - €€€</td>\n",
       "      <td>['Italiana', 'Pizza', 'Saludable']</td>\n",
       "    </tr>\n",
       "    <tr>\n",
       "      <th>4</th>\n",
       "      <td>Ginos</td>\n",
       "      <td>€€ - €€€</td>\n",
       "      <td>['Italiana', 'Mediterránea', 'Opciones vegetar...</td>\n",
       "    </tr>\n",
       "    <tr>\n",
       "      <th>5</th>\n",
       "      <td>Tento</td>\n",
       "      <td>€</td>\n",
       "      <td>['Mediterránea', 'Española']</td>\n",
       "    </tr>\n",
       "    <tr>\n",
       "      <th>6</th>\n",
       "      <td>Naki's Urban Food</td>\n",
       "      <td>€€ - €€€</td>\n",
       "      <td>[]</td>\n",
       "    </tr>\n",
       "    <tr>\n",
       "      <th>7</th>\n",
       "      <td>Lamiak</td>\n",
       "      <td>€</td>\n",
       "      <td>['Bar', 'Mediterránea', 'Española']</td>\n",
       "    </tr>\n",
       "    <tr>\n",
       "      <th>8</th>\n",
       "      <td>Mama Rosa Embajadores</td>\n",
       "      <td>€€ - €€€</td>\n",
       "      <td>['Argentina', 'Sudamericana']</td>\n",
       "    </tr>\n",
       "    <tr>\n",
       "      <th>9</th>\n",
       "      <td>Garden Navarra Castellana</td>\n",
       "      <td>€€ - €€€</td>\n",
       "      <td>['Mediterránea', 'Europea', 'Española']</td>\n",
       "    </tr>\n",
       "    <tr>\n",
       "      <th>10</th>\n",
       "      <td>Restaurante Uval</td>\n",
       "      <td>€€ - €€€</td>\n",
       "      <td>['Mediterránea', 'Española', 'Opciones sin glu...</td>\n",
       "    </tr>\n",
       "    <tr>\n",
       "      <th>11</th>\n",
       "      <td>Healthy Poke Plaza Elíptica</td>\n",
       "      <td>€€ - €€€</td>\n",
       "      <td>['Comida rápida', 'Fusión', 'Saludable']</td>\n",
       "    </tr>\n",
       "    <tr>\n",
       "      <th>12</th>\n",
       "      <td>Trattoria da Piero</td>\n",
       "      <td>€€ - €€€</td>\n",
       "      <td>['Italiana', 'Pizza', 'Mediterránea']</td>\n",
       "    </tr>\n",
       "    <tr>\n",
       "      <th>13</th>\n",
       "      <td>La Fondue de Tell</td>\n",
       "      <td>€€ - €€€</td>\n",
       "      <td>['Suiza', 'Europea', 'Centroeuropea']</td>\n",
       "    </tr>\n",
       "    <tr>\n",
       "      <th>14</th>\n",
       "      <td>Sumeshi</td>\n",
       "      <td>€</td>\n",
       "      <td>['Japonesa', 'Sushi']</td>\n",
       "    </tr>\n",
       "    <tr>\n",
       "      <th>15</th>\n",
       "      <td>La Peineta</td>\n",
       "      <td>€</td>\n",
       "      <td>['Española']</td>\n",
       "    </tr>\n",
       "    <tr>\n",
       "      <th>16</th>\n",
       "      <td>Cachapeishon</td>\n",
       "      <td>€€ - €€€</td>\n",
       "      <td>['Latina', 'Venezolana']</td>\n",
       "    </tr>\n",
       "    <tr>\n",
       "      <th>17</th>\n",
       "      <td>BurgerMeister</td>\n",
       "      <td>€€ - €€€</td>\n",
       "      <td>['Americana']</td>\n",
       "    </tr>\n",
       "    <tr>\n",
       "      <th>18</th>\n",
       "      <td>McDonald's</td>\n",
       "      <td>€€ - €€€</td>\n",
       "      <td>[]</td>\n",
       "    </tr>\n",
       "    <tr>\n",
       "      <th>19</th>\n",
       "      <td>Mesón de la Guitarra</td>\n",
       "      <td>€</td>\n",
       "      <td>['Española']</td>\n",
       "    </tr>\n",
       "  </tbody>\n",
       "</table>\n",
       "</div>"
      ],
      "text/plain": [
       "                                Nombre Rango_precio  \\\n",
       "0                            El Capote            €   \n",
       "1                             La Queda            €   \n",
       "2                       Limbo Tribunal     €€ - €€€   \n",
       "3   400 Grados Pizza - Maria de Molina     €€ - €€€   \n",
       "4                                Ginos     €€ - €€€   \n",
       "5                                Tento            €   \n",
       "6                    Naki's Urban Food     €€ - €€€   \n",
       "7                               Lamiak            €   \n",
       "8                Mama Rosa Embajadores     €€ - €€€   \n",
       "9            Garden Navarra Castellana     €€ - €€€   \n",
       "10                    Restaurante Uval     €€ - €€€   \n",
       "11         Healthy Poke Plaza Elíptica     €€ - €€€   \n",
       "12                  Trattoria da Piero     €€ - €€€   \n",
       "13                   La Fondue de Tell     €€ - €€€   \n",
       "14                             Sumeshi            €   \n",
       "15                          La Peineta            €   \n",
       "16                        Cachapeishon     €€ - €€€   \n",
       "17                       BurgerMeister     €€ - €€€   \n",
       "18                          McDonald's     €€ - €€€   \n",
       "19                Mesón de la Guitarra            €   \n",
       "\n",
       "                                          Tipo_Cocina  \n",
       "0                                        ['Española']  \n",
       "1                                        ['Española']  \n",
       "2                ['Restaurante de carne', 'Barbacoa']  \n",
       "3                  ['Italiana', 'Pizza', 'Saludable']  \n",
       "4   ['Italiana', 'Mediterránea', 'Opciones vegetar...  \n",
       "5                        ['Mediterránea', 'Española']  \n",
       "6                                                  []  \n",
       "7                 ['Bar', 'Mediterránea', 'Española']  \n",
       "8                       ['Argentina', 'Sudamericana']  \n",
       "9             ['Mediterránea', 'Europea', 'Española']  \n",
       "10  ['Mediterránea', 'Española', 'Opciones sin glu...  \n",
       "11           ['Comida rápida', 'Fusión', 'Saludable']  \n",
       "12              ['Italiana', 'Pizza', 'Mediterránea']  \n",
       "13              ['Suiza', 'Europea', 'Centroeuropea']  \n",
       "14                              ['Japonesa', 'Sushi']  \n",
       "15                                       ['Española']  \n",
       "16                           ['Latina', 'Venezolana']  \n",
       "17                                      ['Americana']  \n",
       "18                                                 []  \n",
       "19                                       ['Española']  "
      ]
     },
     "execution_count": 10,
     "metadata": {},
     "output_type": "execute_result"
    }
   ],
   "source": [
    "df_Precio.head(20)"
   ]
  },
  {
   "cell_type": "code",
   "execution_count": 13,
   "id": "a12f58d0",
   "metadata": {},
   "outputs": [],
   "source": [
    "#Guardo el diccionario en un archivo pickle\n",
    "\n",
    "# Especifica el nombre del archivo pickle y la carpeta de destino\n",
    "nombre_archivo = 'dicc_tipococina_rangoprecio.pkl'\n",
    "carpeta_destino = 'Sources'\n",
    "\n",
    "ruta_archivo = os.path.join(carpeta_destino, nombre_archivo)\n",
    "\n",
    "# Guarda el archivo en modo de escritura binaria (wb)\n",
    "with open(ruta_archivo, 'wb') as archivo:\n",
    "    # Utiliza la función dump de pickle para guardar el objeto en el archivo\n",
    "    pickle.dump(otros_tipococina, archivo)\n"
   ]
  },
  {
   "cell_type": "code",
   "execution_count": null,
   "id": "c655566a",
   "metadata": {},
   "outputs": [],
   "source": [
    "#######################"
   ]
  }
 ],
 "metadata": {
  "kernelspec": {
   "display_name": "Python 3 (ipykernel)",
   "language": "python",
   "name": "python3"
  },
  "language_info": {
   "codemirror_mode": {
    "name": "ipython",
    "version": 3
   },
   "file_extension": ".py",
   "mimetype": "text/x-python",
   "name": "python",
   "nbconvert_exporter": "python",
   "pygments_lexer": "ipython3",
   "version": "3.11.3"
  }
 },
 "nbformat": 4,
 "nbformat_minor": 5
}
