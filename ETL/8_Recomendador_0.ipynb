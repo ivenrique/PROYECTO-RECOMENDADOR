{
 "cells": [
  {
   "cell_type": "code",
   "execution_count": 1,
   "id": "ff097191",
   "metadata": {},
   "outputs": [],
   "source": [
    "import numpy as np\n",
    "import pandas as pd\n",
    "import math\n",
    "import time"
   ]
  },
  {
   "cell_type": "code",
   "execution_count": 2,
   "id": "24381c4c",
   "metadata": {},
   "outputs": [],
   "source": [
    "df=pd.read_csv(\"Sources/df_Clean_TripAdvisor.csv\")"
   ]
  },
  {
   "cell_type": "code",
   "execution_count": 3,
   "id": "61897ba1",
   "metadata": {
    "scrolled": true
   },
   "outputs": [
    {
     "name": "stdout",
     "output_type": "stream",
     "text": [
      "<class 'pandas.core.frame.DataFrame'>\n",
      "RangeIndex: 9412 entries, 0 to 9411\n",
      "Data columns (total 39 columns):\n",
      " #   Column             Non-Null Count  Dtype  \n",
      "---  ------             --------------  -----  \n",
      " 0   Unnamed: 0         9412 non-null   int64  \n",
      " 1   Nombre             9412 non-null   object \n",
      " 2   Score              9412 non-null   float64\n",
      " 3   Excelente          9412 non-null   int64  \n",
      " 4   MuyBueno           9412 non-null   int64  \n",
      " 5   Normal             9412 non-null   int64  \n",
      " 6   Malo               9412 non-null   int64  \n",
      " 7   Pesimo             9412 non-null   int64  \n",
      " 8   Num_Reviews        9412 non-null   int64  \n",
      " 9   Posicion           9397 non-null   float64\n",
      " 10  Rango_precio       9412 non-null   object \n",
      " 11  Tipo_Cocina        9412 non-null   object \n",
      " 12  Awards             9412 non-null   int64  \n",
      " 13  Score_Comida       5590 non-null   float64\n",
      " 14  Score_Servicio     5570 non-null   float64\n",
      " 15  Calidad_Precio     5516 non-null   float64\n",
      " 16  Ambiente           1838 non-null   float64\n",
      " 17  Direccion          9412 non-null   object \n",
      " 18  Web_TripAdvisor    9412 non-null   object \n",
      " 19  Latina             9412 non-null   int64  \n",
      " 20  Eur Este           9412 non-null   int64  \n",
      " 21  Africana           9412 non-null   int64  \n",
      " 22  China              9412 non-null   int64  \n",
      " 23  Japonesa           9412 non-null   int64  \n",
      " 24  Arabe              9412 non-null   int64  \n",
      " 25  Mexicana           9412 non-null   int64  \n",
      " 26  Caribeña           9412 non-null   int64  \n",
      " 27  Asiatica           9412 non-null   int64  \n",
      " 28  America Norte      9412 non-null   int64  \n",
      " 29  America Sur        9412 non-null   int64  \n",
      " 30  Italiana           9412 non-null   int64  \n",
      " 31  Española           9412 non-null   int64  \n",
      " 32  Eur Occidental     9412 non-null   int64  \n",
      " 33  Asador             9412 non-null   int64  \n",
      " 34  N/A                9412 non-null   int64  \n",
      " 35  India              9412 non-null   int64  \n",
      " 36  Num_Reviews_Spain  9412 non-null   int64  \n",
      " 37  Latitud            6354 non-null   float64\n",
      " 38  Longitud           6354 non-null   float64\n",
      "dtypes: float64(8), int64(26), object(5)\n",
      "memory usage: 2.8+ MB\n"
     ]
    }
   ],
   "source": [
    "df.info()"
   ]
  },
  {
   "cell_type": "code",
   "execution_count": 4,
   "id": "cd153825",
   "metadata": {},
   "outputs": [],
   "source": [
    "#Hay que ordenar el df por las valoraciones para que ya se quede filtrado\n",
    "#para eelo tenemos una funcion"
   ]
  },
  {
   "cell_type": "code",
   "execution_count": 5,
   "id": "05d729d1",
   "metadata": {},
   "outputs": [
    {
     "name": "stdout",
     "output_type": "stream",
     "text": [
      "Score:3.5,Num_Reviews:35, Punt_poderada:11.025\n",
      "Score:4.5,Num_Reviews:13, Punt_poderada:11.625\n",
      "Score:4.0,Num_Reviews:191, Punt_poderada:16.618\n",
      "Score:5.0,Num_Reviews:25, Punt_poderada:14.774\n",
      "Score:3.5,Num_Reviews:66, Punt_poderada:12.33\n",
      "Score:2.0,Num_Reviews:1, Punt_poderada:2.832\n",
      "Score:3.5,Num_Reviews:3, Punt_poderada:6.411\n",
      "Score:4.5,Num_Reviews:304, Punt_poderada:19.945\n",
      "Score:3.0,Num_Reviews:141, Punt_poderada:11.92\n",
      "Score:4.0,Num_Reviews:89, Punt_poderada:14.8\n"
     ]
    }
   ],
   "source": [
    "#Hay que ajustar las columnas Score y Num_Reviews\n",
    "\"\"\" Para calcular una métrica que capture la relación entre la puntuación y el \n",
    "número de comentarios (reviews) de un restaurante, puedes utilizar el concepto \n",
    "de \"puntuación ponderada\" donde le das más importancia al número de comentarios. \n",
    "Una forma simple de hacerlo es multiplicar la puntuación por una función del número \n",
    "de comentarios. Aquí tienes una posible fórmula:\n",
    "Puntuación Ponderada = Puntuación * (1 + Factor * Log(Número de Comentarios + 1))\n",
    "\"\"\"\n",
    "#Ejemplo de como funcionaria la formula\n",
    "factor=0.6 # se elige un factor para dar mayor o menor importancia a la puntuacion\n",
    "Punt_poderada_list=[]\n",
    "for x,y in zip(df[\"Score\"][0:10], df[\"Num_Reviews\"][0:10]):\n",
    "    Punt_poderada= round(x *(1 + factor * math.log(y+ 1)),3)\n",
    "    print(f\"Score:{x},Num_Reviews:{y}, Punt_poderada:{Punt_poderada}\")\n",
    "    Punt_poderada_list.append(Punt_poderada)\n",
    "    # explicar con indice 0 e indice 3 Teoria vs Punt_Ponderada"
   ]
  },
  {
   "cell_type": "code",
   "execution_count": 6,
   "id": "6c0fe5cf",
   "metadata": {},
   "outputs": [],
   "source": [
    "factor=0.6 # se elige un factor para dar mayor o menor importancia a la puntuacion\n",
    "Punt_poderada_list=[]\n",
    "for x,y in zip(df[\"Score\"], df[\"Num_Reviews\"]):\n",
    "    Punt_poderada=round(x *(1 + factor * math.log(y+ 1)),3)   \n",
    "    Punt_poderada_list.append(Punt_poderada)  "
   ]
  },
  {
   "cell_type": "code",
   "execution_count": 7,
   "id": "bb6357c5",
   "metadata": {},
   "outputs": [],
   "source": [
    "#con el resultado de la formula anterior se crea una nueva columna que se llama valoracion\n",
    "df[\"Valoracion\"]=Punt_poderada_list"
   ]
  },
  {
   "cell_type": "code",
   "execution_count": 8,
   "id": "7cbe735b",
   "metadata": {},
   "outputs": [
    {
     "name": "stdout",
     "output_type": "stream",
     "text": [
      "<class 'pandas.core.frame.DataFrame'>\n",
      "RangeIndex: 9412 entries, 0 to 9411\n",
      "Data columns (total 40 columns):\n",
      " #   Column             Non-Null Count  Dtype  \n",
      "---  ------             --------------  -----  \n",
      " 0   Unnamed: 0         9412 non-null   int64  \n",
      " 1   Nombre             9412 non-null   object \n",
      " 2   Score              9412 non-null   float64\n",
      " 3   Excelente          9412 non-null   int64  \n",
      " 4   MuyBueno           9412 non-null   int64  \n",
      " 5   Normal             9412 non-null   int64  \n",
      " 6   Malo               9412 non-null   int64  \n",
      " 7   Pesimo             9412 non-null   int64  \n",
      " 8   Num_Reviews        9412 non-null   int64  \n",
      " 9   Posicion           9397 non-null   float64\n",
      " 10  Rango_precio       9412 non-null   object \n",
      " 11  Tipo_Cocina        9412 non-null   object \n",
      " 12  Awards             9412 non-null   int64  \n",
      " 13  Score_Comida       5590 non-null   float64\n",
      " 14  Score_Servicio     5570 non-null   float64\n",
      " 15  Calidad_Precio     5516 non-null   float64\n",
      " 16  Ambiente           1838 non-null   float64\n",
      " 17  Direccion          9412 non-null   object \n",
      " 18  Web_TripAdvisor    9412 non-null   object \n",
      " 19  Latina             9412 non-null   int64  \n",
      " 20  Eur Este           9412 non-null   int64  \n",
      " 21  Africana           9412 non-null   int64  \n",
      " 22  China              9412 non-null   int64  \n",
      " 23  Japonesa           9412 non-null   int64  \n",
      " 24  Arabe              9412 non-null   int64  \n",
      " 25  Mexicana           9412 non-null   int64  \n",
      " 26  Caribeña           9412 non-null   int64  \n",
      " 27  Asiatica           9412 non-null   int64  \n",
      " 28  America Norte      9412 non-null   int64  \n",
      " 29  America Sur        9412 non-null   int64  \n",
      " 30  Italiana           9412 non-null   int64  \n",
      " 31  Española           9412 non-null   int64  \n",
      " 32  Eur Occidental     9412 non-null   int64  \n",
      " 33  Asador             9412 non-null   int64  \n",
      " 34  N/A                9412 non-null   int64  \n",
      " 35  India              9412 non-null   int64  \n",
      " 36  Num_Reviews_Spain  9412 non-null   int64  \n",
      " 37  Latitud            6354 non-null   float64\n",
      " 38  Longitud           6354 non-null   float64\n",
      " 39  Valoracion         9412 non-null   float64\n",
      "dtypes: float64(9), int64(26), object(5)\n",
      "memory usage: 2.9+ MB\n"
     ]
    }
   ],
   "source": [
    "df.info()"
   ]
  },
  {
   "cell_type": "markdown",
   "id": "f223fe22",
   "metadata": {},
   "source": [
    "### Recomendador por Tipo Cocina"
   ]
  },
  {
   "cell_type": "code",
   "execution_count": 11,
   "id": "710d88af",
   "metadata": {},
   "outputs": [
    {
     "name": "stdout",
     "output_type": "stream",
     "text": [
      "¿Tiene preferencias por algún tipo de cocina? (Si=1 / No=0): 1\n"
     ]
    }
   ],
   "source": [
    "#codigo para saber si el usuario prefiere entrar a escoger el tipo de cocina\n",
    "while True:\n",
    "    try:\n",
    "        recomienda_cocina = int(input(\"¿Tiene preferencias por algún tipo de cocina? (Si=1 / No=0): \"))\n",
    "        if recomienda_cocina != 0 and recomienda_cocina != 1:\n",
    "            raise ValueError(\"Por favor, ingrese 0 o 1.\")#evalua si alcanza otro valor diferente\n",
    "        break  # Salir del bucle si la entrada es válida\n",
    "    except ValueError:\n",
    "        print(\"Entrada no válida. Por favor, ingrese 0 o 1.\")\n"
   ]
  },
  {
   "cell_type": "code",
   "execution_count": 12,
   "id": "63034c4c",
   "metadata": {},
   "outputs": [
    {
     "name": "stdout",
     "output_type": "stream",
     "text": [
      "Por favor, califique qué tipo generico de cocina le gusta(escala 1 a 10),No se puede repetir la calificacion\n",
      "Siendo 10: Me encanta y 1:No me apetece\n",
      "Califique 'Latina' (1-10): 9\n",
      "Califique 'Asiatica' (1-10): 9\n",
      "Califique 'Italiana' (1-10): 4\n",
      "Califique 'Española' (1-10): 7\n",
      "Califique 'America Norte' (1-10): 1\n",
      "Califique 'Eur Este' (1-10): 1\n",
      "Califique 'Eur Occidental' (1-10): 1\n",
      "Califique 'Arabe' (1-10): 1\n",
      "Califique 'Africana' (1-10): 1\n",
      "Califique 'India' (1-10): 1\n",
      "\n",
      "Calificaciones: {'Latina': 0.9, 'Asiatica': 0.9, 'Italiana': 0.4, 'Española': 0.7, 'America Norte': 0.1, 'Eur Este': 0.1, 'Eur Occidental': 0.1, 'Arabe': 0.1, 'Africana': 0.1, 'India': 0.1}\n"
     ]
    }
   ],
   "source": [
    "# Define las opciones que el usuario puede calificar\n",
    "if recomienda_cocina:\n",
    "    opciones = [\"Latina\", \"Asiatica\", \"Italiana\", \"Española\", \n",
    "            \"America Norte\", \"Eur Este\",\"Eur Occidental\", \"Arabe\",\n",
    "            \"Africana\", \"India\"]\n",
    "\n",
    "# Crea un diccionario para almacenar las calificaciones\n",
    "    calificaciones = {}    \n",
    "# Solicita al usuario que califique cada opción \n",
    "    print(\"Por favor, califique qué tipo generico de cocina le gusta(escala 1 a 10),No se puede repetir la calificacion\")\n",
    "    print(\"Siendo 10: Me encanta y 1:No me apetece\")\n",
    "    for opcion in opciones:\n",
    "        calificacion = int(input(f\"Califique '{opcion}' (1-10): \"))\n",
    "        if calificacion > 0 and calificacion < 11:\n",
    "            calificaciones[opcion] = calificacion/10\n",
    "        \n",
    "        else:\n",
    "            print(\"La clasificacion es incorrecta\")\n",
    "            break\n",
    "            \n",
    "    print(\"\\nCalificaciones:\", calificaciones)\n",
    "\n",
    "else:\n",
    "    print(\"Ya que no tiene preferencias por tipo de cocina le mostramos un lista ordenada por valoracion\")\n",
    "    num_rest= int(input(f\"¿Cuántos restaurantes quiere en su lista(1-50)\"))\n",
    "    df_ordenado = df.sort_values(by='Valoracion', ascending=False)\n",
    "    df_sinpreferencia =df_ordenado[[\"Nombre\", \"Score\",\"Valoracion\",\"Tipo_Cocina\"]].head(num_rest)#los 25\n",
    "    print(df_sinpreferencia)"
   ]
  },
  {
   "cell_type": "code",
   "execution_count": 13,
   "id": "a5208207",
   "metadata": {},
   "outputs": [],
   "source": [
    "#Funcion ordena diccionarios\n",
    "def ordena_diccionario(diccionario):\n",
    "    # Ordenar el diccionario de mayor a menor\n",
    "    diccionario_ordenado = dict(sorted(diccionario.items(), key=lambda item: item[1], reverse=True))\n",
    "    \n",
    "    return diccionario_ordenado   "
   ]
  },
  {
   "cell_type": "code",
   "execution_count": 14,
   "id": "22b16d33",
   "metadata": {},
   "outputs": [
    {
     "data": {
      "text/plain": [
       "{'Latina': 0.9,\n",
       " 'Asiatica': 0.9,\n",
       " 'Española': 0.7,\n",
       " 'Italiana': 0.4,\n",
       " 'America Norte': 0.1,\n",
       " 'Eur Este': 0.1,\n",
       " 'Eur Occidental': 0.1,\n",
       " 'Arabe': 0.1,\n",
       " 'Africana': 0.1,\n",
       " 'India': 0.1}"
      ]
     },
     "execution_count": 14,
     "metadata": {},
     "output_type": "execute_result"
    }
   ],
   "source": [
    " # Mostrar el diccionario ordenado\n",
    "calificaciones_ordenado=ordena_diccionario(calificaciones)  \n",
    "calificaciones_ordenado"
   ]
  },
  {
   "cell_type": "code",
   "execution_count": 15,
   "id": "23360843",
   "metadata": {},
   "outputs": [],
   "source": [
    "#Funcion para puntuar los tipos de cocina segun deseo del usuario\n",
    "\n",
    "def puntuacion_cocinas(lista):                  \n",
    "    # Solicita al usuario que califique cada opción    \n",
    "    print(f\"Por favor, califique las opciones de cocina:{lista} (escala 1 a 10)\")\n",
    "    print(\"Siendo 10: Me encanta y 1:No me apetece\")\n",
    "    \n",
    "    calificaciones1={}\n",
    "    for opcion in lista:\n",
    "                calificacion = int(input(f\"Califique '{opcion}' (1-10): \"))\n",
    "                if calificacion > 0 and calificacion < 11:\n",
    "                    calificaciones1[opcion] = calificacion/10\n",
    "                else:\n",
    "                    print(\"La clasificacion es incorrecta\")\n",
    "                    break \n",
    "    return calificaciones1"
   ]
  },
  {
   "cell_type": "code",
   "execution_count": 16,
   "id": "c1de00df",
   "metadata": {},
   "outputs": [
    {
     "name": "stdout",
     "output_type": "stream",
     "text": [
      "\n",
      " Calificaciones Latina\n",
      "Por favor, califique las opciones de cocina:['America Sur', 'Asador', 'Caribeña', 'Latina', 'Mexicana'] (escala 1 a 10)\n",
      "Siendo 10: Me encanta y 1:No me apetece\n",
      "Califique 'America Sur' (1-10): 6\n",
      "Califique 'Asador' (1-10): 6\n",
      "Califique 'Caribeña' (1-10): 9\n",
      "Califique 'Latina' (1-10): 8\n",
      "Califique 'Mexicana' (1-10): 6\n",
      "\n",
      " Calificaciones Asiatica\n",
      "Por favor, califique las opciones de cocina:['Asiatica', 'China', 'Japonesa'] (escala 1 a 10)\n",
      "Siendo 10: Me encanta y 1:No me apetece\n",
      "Califique 'Asiatica' (1-10): 6\n",
      "Califique 'China' (1-10): 9\n",
      "Califique 'Japonesa' (1-10): 7\n"
     ]
    }
   ],
   "source": [
    "# Verifica si la clave deseada está entre las tres primeras posiciones\n",
    "clave = [\"Latina\", \"Asiatica\"]  \n",
    "primeras_tres_claves = list(calificaciones_ordenado.keys())[:3]\n",
    "Latinoamerica =[\"America Sur\",\"Asador\", \"Caribeña\", \"Latina\", \"Mexicana\"]\n",
    "Asiatica = [\"Asiatica\", \"China\", \"Japonesa\"]\n",
    "\n",
    "for x in clave:\n",
    "    if x in primeras_tres_claves:        \n",
    "        if x == \"Latina\":\n",
    "            print(f\"\\n Calificaciones {x}\")\n",
    "            calif_latina=puntuacion_cocinas(Latinoamerica)\n",
    "            calif_latina_ordenado=ordena_diccionario(calif_latina)\n",
    "            lista_latin= list(calif_latina_ordenado.keys())[0:2]\n",
    "            #calif_latina_ordenado            \n",
    "            #print(calif_latina)            \n",
    "        elif x== \"Asiatica\":\n",
    "            print(f\"\\n Calificaciones {x}\")\n",
    "            calif_asiatica=puntuacion_cocinas(Asiatica)\n",
    "            calif_asiatica_ordenado=ordena_diccionario(calif_asiatica)\n",
    "            lista_asia= list(calif_asiatica_ordenado.keys())[0:2]\n",
    "            #calif_asiatica_ordenado\n",
    "            #print(calif_asiatica)        \n",
    "        \n",
    "    else:\n",
    "        lista_pref= list(calificaciones_ordenado.keys())[0:4]\n",
    "        #print(f'La clave \"{x}\" no se encuentra entre las tres primeras posiciones.')"
   ]
  },
  {
   "cell_type": "code",
   "execution_count": 17,
   "id": "51485c99",
   "metadata": {},
   "outputs": [
    {
     "name": "stdout",
     "output_type": "stream",
     "text": [
      "['Caribeña', 'Latina', 'China', 'Japonesa', 'Española', 'Italiana']\n"
     ]
    }
   ],
   "source": [
    "#Para organizar por orden de peso la lista y sublista de tipos de puntuacion\n",
    "lista_pref= list(calificaciones_ordenado.keys())[0:4]\n",
    "lista_pref\n",
    "tipo_cocina_preferida_list=[]\n",
    "for x in lista_pref:\n",
    "    if x != \"Latina\" and x!=\"Asiatica\":\n",
    "        tipo_cocina_preferida_list.append(x)\n",
    "    elif x == \"Latina\":\n",
    "        tipo_cocina_preferida_list.extend(lista_latin)\n",
    "        \n",
    "    elif x == \"Asiatica\":\n",
    "        tipo_cocina_preferida_list.extend(lista_asia)\n",
    "print(tipo_cocina_preferida_list)\n",
    "    "
   ]
  },
  {
   "cell_type": "code",
   "execution_count": 18,
   "id": "161ca023",
   "metadata": {
    "scrolled": true
   },
   "outputs": [
    {
     "name": "stdout",
     "output_type": "stream",
     "text": [
      "¿Cuantas recomendaciones quiere por tipo de cocina?(1-10)3\n",
      "El tipo de cocina Seleccionada: Caribeña\n",
      "        Nombre  Score  Valoracion\n",
      "1519    Sakale    5.0      29.314\n",
      "6425  Gramabar    4.5      24.511\n",
      "4002     Borax    4.5      20.977\n",
      "El tipo de cocina Seleccionada: Latina\n",
      "                              Nombre  Score  Valoracion\n",
      "3058                    Grama Lounge    5.0      29.937\n",
      "2691       Mu! El Placer De La Carne    4.5      26.078\n",
      "7332  Santita Virgen de los Peligros    5.0      25.901\n",
      "El tipo de cocina Seleccionada: China\n",
      "                  Nombre  Score  Valoracion\n",
      "6833  Restaurante Luxury    4.5      21.517\n",
      "9162      Royal Cantonés    4.0      19.055\n",
      "7601        Asia Gallery    4.0      19.018\n",
      "El tipo de cocina Seleccionada: Japonesa\n",
      "                                      Nombre  Score  Valoracion\n",
      "1519                                  Sakale    5.0      29.314\n",
      "2055  Sibuya Urban Sushi Bar Madrid C/Orense    5.0      25.061\n",
      "2931                          Yakitoro Reina    4.0      24.683\n",
      "El tipo de cocina Seleccionada: Española\n",
      "                  Nombre  Score  Valoracion\n",
      "2273      Taberna el Sur    4.5      28.884\n",
      "5676        Rosi La Loca    4.5      28.716\n",
      "2157  Taberna Más Al Sur    4.5      28.052\n",
      "El tipo de cocina Seleccionada: Italiana\n",
      "                           Nombre  Score  Valoracion\n",
      "3338  Oven Mozzarella Gran Vía 55    5.0      28.046\n",
      "5922   Oven Mozzarella Gran Vía 6    4.5      27.551\n",
      "6973    Lettera Trattoria moderna    5.0      27.007\n"
     ]
    }
   ],
   "source": [
    "resultado=pd.DataFrame()\n",
    "dicc_df={}\n",
    "z= int(input(f\"¿Cuantas recomendaciones quiere por tipo de cocina?(1-10)\"))#numero de recomendaciones por tipo de cocina\n",
    "for y in tipo_cocina_preferida_list:\n",
    "    for x in df.columns[19:-4]:#se corresponde con las columnas tipo cocina\n",
    "        if x == y:\n",
    "            df_recomendador1 = df[df[x]==1]\n",
    "            print(f\"El tipo de cocina Seleccionada: {y}\")\n",
    "            df_ordenado = df_recomendador1.sort_values(by='Valoracion', ascending=False)\n",
    "            print(df_ordenado[[\"Nombre\", \"Score\",\"Valoracion\"]].head(z))\n",
    "            dicc_df[x]=df_ordenado[[\"Nombre\", \"Score\",\"Valoracion\"]].head(z)\n"
   ]
  },
  {
   "cell_type": "code",
   "execution_count": null,
   "id": "64a528a3",
   "metadata": {},
   "outputs": [],
   "source": [
    "# Funcion\n",
    "\n",
    "z = tab1.number_input()\n",
    "\n",
    "def recomendador_final(tipo_cocina_preferida_list, z):\n",
    "\n",
    "    resultado=pd.DataFrame()\n",
    "    dicc_df={}\n",
    "#     z= int(input(f\"¿Cuantas recomendaciones quiere por tipo de cocina?(1-10)\"))#numero de recomendaciones por tipo de cocina\n",
    "    for y in tipo_cocina_preferida_list:\n",
    "        for x in df.columns[19:-4]:#se corresponde con las columnas tipo cocina\n",
    "            if x == y:\n",
    "                df_recomendador1 = df[df[x]==1]\n",
    "                print(f\"El tipo de cocina Seleccionada: {y}\")\n",
    "                df_ordenado = df_recomendador1.sort_values(by='Valoracion', ascending=False)\n",
    "                print(df_ordenado[[\"Nombre\", \"Score\",\"Valoracion\"]].head(z))\n",
    "                dicc_df[x]=df_ordenado[[\"Nombre\", \"Score\",\"Valoracion\"]].head(z)\n",
    "                \n",
    "    return dicc_df"
   ]
  },
  {
   "cell_type": "code",
   "execution_count": 23,
   "id": "b783f077",
   "metadata": {},
   "outputs": [
    {
     "data": {
      "text/html": [
       "<div>\n",
       "<style scoped>\n",
       "    .dataframe tbody tr th:only-of-type {\n",
       "        vertical-align: middle;\n",
       "    }\n",
       "\n",
       "    .dataframe tbody tr th {\n",
       "        vertical-align: top;\n",
       "    }\n",
       "\n",
       "    .dataframe thead th {\n",
       "        text-align: right;\n",
       "    }\n",
       "</style>\n",
       "<table border=\"1\" class=\"dataframe\">\n",
       "  <thead>\n",
       "    <tr style=\"text-align: right;\">\n",
       "      <th></th>\n",
       "      <th>Nombre</th>\n",
       "      <th>Score</th>\n",
       "      <th>Valoracion</th>\n",
       "    </tr>\n",
       "  </thead>\n",
       "  <tbody>\n",
       "    <tr>\n",
       "      <th>3338</th>\n",
       "      <td>Oven Mozzarella Gran Vía 55</td>\n",
       "      <td>5.0</td>\n",
       "      <td>28.046</td>\n",
       "    </tr>\n",
       "    <tr>\n",
       "      <th>5922</th>\n",
       "      <td>Oven Mozzarella Gran Vía 6</td>\n",
       "      <td>4.5</td>\n",
       "      <td>27.551</td>\n",
       "    </tr>\n",
       "    <tr>\n",
       "      <th>6973</th>\n",
       "      <td>Lettera Trattoria moderna</td>\n",
       "      <td>5.0</td>\n",
       "      <td>27.007</td>\n",
       "    </tr>\n",
       "  </tbody>\n",
       "</table>\n",
       "</div>"
      ],
      "text/plain": [
       "                           Nombre  Score  Valoracion\n",
       "3338  Oven Mozzarella Gran Vía 55    5.0      28.046\n",
       "5922   Oven Mozzarella Gran Vía 6    4.5      27.551\n",
       "6973    Lettera Trattoria moderna    5.0      27.007"
      ]
     },
     "execution_count": 23,
     "metadata": {},
     "output_type": "execute_result"
    }
   ],
   "source": [
    "list(dicc_df.values())[5]"
   ]
  },
  {
   "cell_type": "code",
   "execution_count": null,
   "id": "f22488ce",
   "metadata": {},
   "outputs": [],
   "source": []
  },
  {
   "cell_type": "code",
   "execution_count": null,
   "id": "8a780701",
   "metadata": {},
   "outputs": [],
   "source": []
  },
  {
   "cell_type": "code",
   "execution_count": null,
   "id": "389056c4",
   "metadata": {},
   "outputs": [],
   "source": []
  },
  {
   "cell_type": "code",
   "execution_count": null,
   "id": "426a55b1",
   "metadata": {},
   "outputs": [],
   "source": [
    "#################################"
   ]
  }
 ],
 "metadata": {
  "kernelspec": {
   "display_name": "Python 3 (ipykernel)",
   "language": "python",
   "name": "python3"
  },
  "language_info": {
   "codemirror_mode": {
    "name": "ipython",
    "version": 3
   },
   "file_extension": ".py",
   "mimetype": "text/x-python",
   "name": "python",
   "nbconvert_exporter": "python",
   "pygments_lexer": "ipython3",
   "version": "3.11.3"
  }
 },
 "nbformat": 4,
 "nbformat_minor": 5
}
