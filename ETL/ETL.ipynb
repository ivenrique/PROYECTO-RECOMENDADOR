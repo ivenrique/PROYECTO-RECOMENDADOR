{
 "cells": [
  {
   "cell_type": "code",
   "execution_count": 1,
   "metadata": {},
   "outputs": [],
   "source": [
    "import pandas as pd\n",
    "import numpy as np\n",
    "from time import sleep\n",
    "import pickle\n"
   ]
  },
  {
   "cell_type": "code",
   "execution_count": 2,
   "metadata": {},
   "outputs": [],
   "source": [
    "df=pd.read_csv(\"Sources\\Trip_Rest_Madrid.csv\")"
   ]
  },
  {
   "cell_type": "code",
   "execution_count": 3,
   "metadata": {},
   "outputs": [
    {
     "name": "stdout",
     "output_type": "stream",
     "text": [
      "<class 'pandas.core.frame.DataFrame'>\n",
      "RangeIndex: 9869 entries, 0 to 9868\n",
      "Data columns (total 19 columns):\n",
      " #   Column           Non-Null Count  Dtype  \n",
      "---  ------           --------------  -----  \n",
      " 0   Unnamed: 0       9869 non-null   int64  \n",
      " 1   Nombre           9836 non-null   object \n",
      " 2   Score            9443 non-null   object \n",
      " 3   Excelente        9443 non-null   float64\n",
      " 4   MuyBueno         9443 non-null   float64\n",
      " 5   Normal           9443 non-null   float64\n",
      " 6   Malo             9443 non-null   float64\n",
      " 7   Pesimo           9443 non-null   float64\n",
      " 8   Num_Reviews      9836 non-null   float64\n",
      " 9   Posicion         9428 non-null   float64\n",
      " 10  Rango_precio     8768 non-null   object \n",
      " 11  Tipo_Cocina      9869 non-null   object \n",
      " 12  Awards           9869 non-null   object \n",
      " 13  Score_Comida     5606 non-null   float64\n",
      " 14  Score_Servicio   5586 non-null   float64\n",
      " 15  Calidad_Precio   5532 non-null   float64\n",
      " 16  Ambiente         1841 non-null   float64\n",
      " 17  Direccion        9836 non-null   object \n",
      " 18  Web_TripAdvisor  9869 non-null   object \n",
      "dtypes: float64(11), int64(1), object(7)\n",
      "memory usage: 1.4+ MB\n"
     ]
    }
   ],
   "source": [
    "df.info()"
   ]
  },
  {
   "cell_type": "code",
   "execution_count": 4,
   "metadata": {},
   "outputs": [],
   "source": [
    "df_tipo_cocina=pd.read_csv(\"Sources\\Asignacion_X_Tipo_Cocina.csv\")#Viene del NB Tipo de Cocina"
   ]
  },
  {
   "cell_type": "code",
   "execution_count": 5,
   "metadata": {},
   "outputs": [
    {
     "name": "stdout",
     "output_type": "stream",
     "text": [
      "<class 'pandas.core.frame.DataFrame'>\n",
      "RangeIndex: 9869 entries, 0 to 9868\n",
      "Data columns (total 22 columns):\n",
      " #   Column                Non-Null Count  Dtype \n",
      "---  ------                --------------  ----- \n",
      " 0   Unnamed: 0            9869 non-null   int64 \n",
      " 1   Nombre                9836 non-null   object\n",
      " 2   Tipo_Cocina           9869 non-null   object\n",
      " 3   tipo_cocina_list      9869 non-null   object\n",
      " 4   Tipo_Cocina_Agrupado  9869 non-null   object\n",
      " 5   Latina                9869 non-null   int64 \n",
      " 6   Eur Este              9869 non-null   int64 \n",
      " 7   Africana              9869 non-null   int64 \n",
      " 8   China                 9869 non-null   int64 \n",
      " 9   Japonesa              9869 non-null   int64 \n",
      " 10  Arabe                 9869 non-null   int64 \n",
      " 11  Mexicana              9869 non-null   int64 \n",
      " 12  Caribeña              9869 non-null   int64 \n",
      " 13  Asiatica              9869 non-null   int64 \n",
      " 14  America Norte         9869 non-null   int64 \n",
      " 15  America Sur           9869 non-null   int64 \n",
      " 16  Italiana              9869 non-null   int64 \n",
      " 17  Española              9869 non-null   int64 \n",
      " 18  Eur Occidental        9869 non-null   int64 \n",
      " 19  Asador                9869 non-null   int64 \n",
      " 20  N/A                   9869 non-null   int64 \n",
      " 21  India                 9869 non-null   int64 \n",
      "dtypes: int64(18), object(4)\n",
      "memory usage: 1.7+ MB\n"
     ]
    }
   ],
   "source": [
    "df_tipo_cocina.info()"
   ]
  },
  {
   "cell_type": "code",
   "execution_count": 6,
   "metadata": {},
   "outputs": [],
   "source": [
    "df_Tipo_Cocina = df_tipo_cocina.drop([\"Nombre\",\"Tipo_Cocina\",\"tipo_cocina_list\",\"Tipo_Cocina_Agrupado\"], axis = 1)"
   ]
  },
  {
   "cell_type": "code",
   "execution_count": 7,
   "metadata": {},
   "outputs": [],
   "source": [
    "df_=pd.concat([df, df_Tipo_Cocina], axis=1)"
   ]
  },
  {
   "cell_type": "code",
   "execution_count": 8,
   "metadata": {},
   "outputs": [
    {
     "name": "stdout",
     "output_type": "stream",
     "text": [
      "<class 'pandas.core.frame.DataFrame'>\n",
      "RangeIndex: 9869 entries, 0 to 9868\n",
      "Data columns (total 37 columns):\n",
      " #   Column           Non-Null Count  Dtype  \n",
      "---  ------           --------------  -----  \n",
      " 0   Unnamed: 0       9869 non-null   int64  \n",
      " 1   Nombre           9836 non-null   object \n",
      " 2   Score            9443 non-null   object \n",
      " 3   Excelente        9443 non-null   float64\n",
      " 4   MuyBueno         9443 non-null   float64\n",
      " 5   Normal           9443 non-null   float64\n",
      " 6   Malo             9443 non-null   float64\n",
      " 7   Pesimo           9443 non-null   float64\n",
      " 8   Num_Reviews      9836 non-null   float64\n",
      " 9   Posicion         9428 non-null   float64\n",
      " 10  Rango_precio     8768 non-null   object \n",
      " 11  Tipo_Cocina      9869 non-null   object \n",
      " 12  Awards           9869 non-null   object \n",
      " 13  Score_Comida     5606 non-null   float64\n",
      " 14  Score_Servicio   5586 non-null   float64\n",
      " 15  Calidad_Precio   5532 non-null   float64\n",
      " 16  Ambiente         1841 non-null   float64\n",
      " 17  Direccion        9836 non-null   object \n",
      " 18  Web_TripAdvisor  9869 non-null   object \n",
      " 19  Unnamed: 0       9869 non-null   int64  \n",
      " 20  Latina           9869 non-null   int64  \n",
      " 21  Eur Este         9869 non-null   int64  \n",
      " 22  Africana         9869 non-null   int64  \n",
      " 23  China            9869 non-null   int64  \n",
      " 24  Japonesa         9869 non-null   int64  \n",
      " 25  Arabe            9869 non-null   int64  \n",
      " 26  Mexicana         9869 non-null   int64  \n",
      " 27  Caribeña         9869 non-null   int64  \n",
      " 28  Asiatica         9869 non-null   int64  \n",
      " 29  America Norte    9869 non-null   int64  \n",
      " 30  America Sur      9869 non-null   int64  \n",
      " 31  Italiana         9869 non-null   int64  \n",
      " 32  Española         9869 non-null   int64  \n",
      " 33  Eur Occidental   9869 non-null   int64  \n",
      " 34  Asador           9869 non-null   int64  \n",
      " 35  N/A              9869 non-null   int64  \n",
      " 36  India            9869 non-null   int64  \n",
      "dtypes: float64(11), int64(19), object(7)\n",
      "memory usage: 2.8+ MB\n"
     ]
    }
   ],
   "source": [
    "df_.info()"
   ]
  },
  {
   "cell_type": "markdown",
   "metadata": {},
   "source": [
    "### Rango  de Precio"
   ]
  },
  {
   "cell_type": "code",
   "execution_count": 9,
   "metadata": {},
   "outputs": [
    {
     "data": {
      "text/plain": [
       "array(['€', '€€ - €€€', 'Española', 'Italiana', nan, 'Mediterránea',\n",
       "       'Bar', 'Japonesa', 'Francesa', 'Americana', 'Sudamericana',\n",
       "       'China', '€€€€', 'Brasileña', 'Café', 'Peruana', 'Mexicana',\n",
       "       'Europea', 'Africana', 'Irlandesa', 'Argentina', 'Internacional',\n",
       "       'Restaurante de carne', 'Asiática', 'Tienda gourmet', 'Asador',\n",
       "       'Fusión japonesa', 'Pub con cerveza artesanal', 'Filipina',\n",
       "       'India', 'Latina', 'Marisco', 'Contemporánea', 'Bares para comer',\n",
       "       'Saludable', 'Pizza', 'Comida rápida', 'Hawaiana', 'Griega',\n",
       "       'Marroquí', 'Casa de un chef local', 'Libanesa', 'Turca', 'Sushi',\n",
       "       'Venezolana', 'Vinoteca', 'Pub', 'Fusión', 'Tailandesa', 'Postres',\n",
       "       'Barbacoa', 'De Oriente Medio', 'Comedor', 'Australiana',\n",
       "       'Caribeña', 'Street food / Comida en la calle', 'Suiza',\n",
       "       'Tentempiés', 'Alemana', 'Chilena', 'Belga'], dtype=object)"
      ]
     },
     "execution_count": 9,
     "metadata": {},
     "output_type": "execute_result"
    }
   ],
   "source": [
    "df_[\"Rango_precio\"].unique()"
   ]
  },
  {
   "cell_type": "code",
   "execution_count": 10,
   "metadata": {},
   "outputs": [],
   "source": [
    "with open(\"Sources\\lista_rangoprecio_actualizado\", \"rb\") as archivo:\n",
    "    lista_rangoprecio_actualizado=pickle.load(archivo)   "
   ]
  },
  {
   "cell_type": "code",
   "execution_count": 11,
   "metadata": {},
   "outputs": [],
   "source": [
    "df_[\"Rango_precio\"]=lista_rangoprecio_actualizado\n"
   ]
  },
  {
   "cell_type": "code",
   "execution_count": 27,
   "metadata": {},
   "outputs": [
    {
     "data": {
      "text/plain": [
       "array(['€', '€€ - €€€', '€€€€'], dtype=object)"
      ]
     },
     "execution_count": 27,
     "metadata": {},
     "output_type": "execute_result"
    }
   ],
   "source": [
    "df_[\"Rango_precio\"].unique()"
   ]
  },
  {
   "cell_type": "markdown",
   "metadata": {},
   "source": [
    "### Nombre y Score"
   ]
  },
  {
   "cell_type": "code",
   "execution_count": 12,
   "metadata": {},
   "outputs": [],
   "source": [
    "#Eliminamos los que no tiene nombre ni score general, no valen para el recomendador\n",
    "df_=df_.dropna(subset=[\"Nombre\", \"Score\"])"
   ]
  },
  {
   "cell_type": "code",
   "execution_count": 13,
   "metadata": {},
   "outputs": [],
   "source": [
    "df_.reset_index(inplace= True, drop=True)"
   ]
  },
  {
   "cell_type": "code",
   "execution_count": 14,
   "metadata": {},
   "outputs": [],
   "source": [
    "\n",
    "df_=df_.drop(\"Unnamed: 0\", axis=1)"
   ]
  },
  {
   "cell_type": "code",
   "execution_count": 15,
   "metadata": {},
   "outputs": [
    {
     "name": "stdout",
     "output_type": "stream",
     "text": [
      "<class 'pandas.core.frame.DataFrame'>\n",
      "RangeIndex: 9412 entries, 0 to 9411\n",
      "Data columns (total 35 columns):\n",
      " #   Column           Non-Null Count  Dtype  \n",
      "---  ------           --------------  -----  \n",
      " 0   Nombre           9412 non-null   object \n",
      " 1   Score            9412 non-null   object \n",
      " 2   Excelente        9412 non-null   float64\n",
      " 3   MuyBueno         9412 non-null   float64\n",
      " 4   Normal           9412 non-null   float64\n",
      " 5   Malo             9412 non-null   float64\n",
      " 6   Pesimo           9412 non-null   float64\n",
      " 7   Num_Reviews      9412 non-null   float64\n",
      " 8   Posicion         9397 non-null   float64\n",
      " 9   Rango_precio     9412 non-null   object \n",
      " 10  Tipo_Cocina      9412 non-null   object \n",
      " 11  Awards           9412 non-null   object \n",
      " 12  Score_Comida     5590 non-null   float64\n",
      " 13  Score_Servicio   5570 non-null   float64\n",
      " 14  Calidad_Precio   5516 non-null   float64\n",
      " 15  Ambiente         1838 non-null   float64\n",
      " 16  Direccion        9412 non-null   object \n",
      " 17  Web_TripAdvisor  9412 non-null   object \n",
      " 18  Latina           9412 non-null   int64  \n",
      " 19  Eur Este         9412 non-null   int64  \n",
      " 20  Africana         9412 non-null   int64  \n",
      " 21  China            9412 non-null   int64  \n",
      " 22  Japonesa         9412 non-null   int64  \n",
      " 23  Arabe            9412 non-null   int64  \n",
      " 24  Mexicana         9412 non-null   int64  \n",
      " 25  Caribeña         9412 non-null   int64  \n",
      " 26  Asiatica         9412 non-null   int64  \n",
      " 27  America Norte    9412 non-null   int64  \n",
      " 28  America Sur      9412 non-null   int64  \n",
      " 29  Italiana         9412 non-null   int64  \n",
      " 30  Española         9412 non-null   int64  \n",
      " 31  Eur Occidental   9412 non-null   int64  \n",
      " 32  Asador           9412 non-null   int64  \n",
      " 33  N/A              9412 non-null   int64  \n",
      " 34  India            9412 non-null   int64  \n",
      "dtypes: float64(11), int64(17), object(7)\n",
      "memory usage: 2.5+ MB\n"
     ]
    }
   ],
   "source": [
    "df_.info()"
   ]
  },
  {
   "cell_type": "markdown",
   "metadata": {},
   "source": [
    "### Score"
   ]
  },
  {
   "cell_type": "code",
   "execution_count": 16,
   "metadata": {},
   "outputs": [
    {
     "data": {
      "text/plain": [
       "array(['3,5', '4,5', '4,0', '5,0', '2,0', '3,0', '2,5', '1,5', '1,0',\n",
       "       '0,0'], dtype=object)"
      ]
     },
     "execution_count": 16,
     "metadata": {},
     "output_type": "execute_result"
    }
   ],
   "source": [
    "df_[\"Score\"].unique()"
   ]
  },
  {
   "cell_type": "code",
   "execution_count": 17,
   "metadata": {},
   "outputs": [],
   "source": [
    "#Convertir la columna Score a númerico\n",
    "\n",
    "df_[\"Score\"]=[x.replace(\",\", \".\") for x in df_[\"Score\"]] # se sustituye la coma  por punto\n",
    "\n",
    "df_[\"Score\"]= pd.to_numeric(df_[\"Score\"])"
   ]
  },
  {
   "cell_type": "markdown",
   "metadata": {},
   "source": [
    "### Columnas de Puntuaciones"
   ]
  },
  {
   "cell_type": "code",
   "execution_count": 18,
   "metadata": {},
   "outputs": [],
   "source": [
    "#Convertimos las siguientes columnas a enteros, para que visualmente se puedan ver mejor\n",
    "\n",
    "lista=[\"Excelente\",\"MuyBueno\", \"Normal\", \"Malo\", \"Pesimo\", \"Num_Reviews\"]\n",
    "\n",
    "for i in lista:\n",
    "    df_[f\"{i}\"]=df_[f\"{i}\"].astype(int)\n"
   ]
  },
  {
   "cell_type": "code",
   "execution_count": 19,
   "metadata": {},
   "outputs": [],
   "source": [
    "#Se agraga  la columna(Num_Reviwes_Spain) que sume las puntuaciones, ya que la columna Num_Reviews \n",
    "# representa el total de reviews para  todos lo idiomas\n",
    "df_[\"Num_Reviews_Spain\"]=df_[\"Excelente\"]+df_[\"MuyBueno\"]+df_[\"Normal\"]+df_[\"Malo\"]+df_[\"Pesimo\"]\n"
   ]
  },
  {
   "cell_type": "code",
   "execution_count": 20,
   "metadata": {},
   "outputs": [
    {
     "name": "stdout",
     "output_type": "stream",
     "text": [
      "<class 'pandas.core.frame.DataFrame'>\n",
      "RangeIndex: 9412 entries, 0 to 9411\n",
      "Data columns (total 36 columns):\n",
      " #   Column             Non-Null Count  Dtype  \n",
      "---  ------             --------------  -----  \n",
      " 0   Nombre             9412 non-null   object \n",
      " 1   Score              9412 non-null   float64\n",
      " 2   Excelente          9412 non-null   int32  \n",
      " 3   MuyBueno           9412 non-null   int32  \n",
      " 4   Normal             9412 non-null   int32  \n",
      " 5   Malo               9412 non-null   int32  \n",
      " 6   Pesimo             9412 non-null   int32  \n",
      " 7   Num_Reviews        9412 non-null   int32  \n",
      " 8   Posicion           9397 non-null   float64\n",
      " 9   Rango_precio       9412 non-null   object \n",
      " 10  Tipo_Cocina        9412 non-null   object \n",
      " 11  Awards             9412 non-null   object \n",
      " 12  Score_Comida       5590 non-null   float64\n",
      " 13  Score_Servicio     5570 non-null   float64\n",
      " 14  Calidad_Precio     5516 non-null   float64\n",
      " 15  Ambiente           1838 non-null   float64\n",
      " 16  Direccion          9412 non-null   object \n",
      " 17  Web_TripAdvisor    9412 non-null   object \n",
      " 18  Latina             9412 non-null   int64  \n",
      " 19  Eur Este           9412 non-null   int64  \n",
      " 20  Africana           9412 non-null   int64  \n",
      " 21  China              9412 non-null   int64  \n",
      " 22  Japonesa           9412 non-null   int64  \n",
      " 23  Arabe              9412 non-null   int64  \n",
      " 24  Mexicana           9412 non-null   int64  \n",
      " 25  Caribeña           9412 non-null   int64  \n",
      " 26  Asiatica           9412 non-null   int64  \n",
      " 27  America Norte      9412 non-null   int64  \n",
      " 28  America Sur        9412 non-null   int64  \n",
      " 29  Italiana           9412 non-null   int64  \n",
      " 30  Española           9412 non-null   int64  \n",
      " 31  Eur Occidental     9412 non-null   int64  \n",
      " 32  Asador             9412 non-null   int64  \n",
      " 33  N/A                9412 non-null   int64  \n",
      " 34  India              9412 non-null   int64  \n",
      " 35  Num_Reviews_Spain  9412 non-null   int32  \n",
      "dtypes: float64(6), int32(7), int64(17), object(6)\n",
      "memory usage: 2.3+ MB\n"
     ]
    }
   ],
   "source": [
    "df_.info()"
   ]
  },
  {
   "cell_type": "markdown",
   "metadata": {},
   "source": [
    "### Awards"
   ]
  },
  {
   "cell_type": "code",
   "execution_count": 21,
   "metadata": {},
   "outputs": [
    {
     "data": {
      "text/plain": [
       "array(['-', \"Travellers' Choice\"], dtype=object)"
      ]
     },
     "execution_count": 21,
     "metadata": {},
     "output_type": "execute_result"
    }
   ],
   "source": [
    "#Vamos a transformar la columna en 0 y 1, 1 si tiene categortia \"Travellers´ Choice\"\n",
    "df_[\"Awards\"].unique()"
   ]
  },
  {
   "cell_type": "code",
   "execution_count": 22,
   "metadata": {},
   "outputs": [],
   "source": [
    "#se sustituyen los valores por 0 y 1\n",
    "df_[\"Awards\"]=df_[\"Awards\"].apply(lambda x :1 if x ==\"Travellers' Choice\"else 0)"
   ]
  },
  {
   "cell_type": "code",
   "execution_count": 23,
   "metadata": {},
   "outputs": [
    {
     "data": {
      "text/plain": [
       "array([0, 1], dtype=int64)"
      ]
     },
     "execution_count": 23,
     "metadata": {},
     "output_type": "execute_result"
    }
   ],
   "source": [
    "df_[\"Awards\"].unique()"
   ]
  },
  {
   "cell_type": "markdown",
   "metadata": {},
   "source": [
    "### Direccion"
   ]
  },
  {
   "cell_type": "code",
   "execution_count": 28,
   "metadata": {},
   "outputs": [],
   "source": [
    "with open(\"Sources\\latitud_9412.pickle\", 'rb') as archivo:\n",
    "    latitud_list = pickle.load(archivo)"
   ]
  },
  {
   "cell_type": "code",
   "execution_count": 29,
   "metadata": {},
   "outputs": [],
   "source": [
    "df_[\"Latitud\"]=latitud_list"
   ]
  },
  {
   "cell_type": "code",
   "execution_count": 31,
   "metadata": {},
   "outputs": [],
   "source": [
    "with open(\"Sources\\longitud_9412.pickle\", 'rb') as archivo:\n",
    "    longitud_list = pickle.load(archivo)"
   ]
  },
  {
   "cell_type": "code",
   "execution_count": 32,
   "metadata": {},
   "outputs": [],
   "source": [
    "df_[\"Longitud\"]= longitud_list"
   ]
  },
  {
   "cell_type": "code",
   "execution_count": 33,
   "metadata": {},
   "outputs": [
    {
     "name": "stdout",
     "output_type": "stream",
     "text": [
      "<class 'pandas.core.frame.DataFrame'>\n",
      "RangeIndex: 9412 entries, 0 to 9411\n",
      "Data columns (total 38 columns):\n",
      " #   Column             Non-Null Count  Dtype  \n",
      "---  ------             --------------  -----  \n",
      " 0   Nombre             9412 non-null   object \n",
      " 1   Score              9412 non-null   float64\n",
      " 2   Excelente          9412 non-null   int32  \n",
      " 3   MuyBueno           9412 non-null   int32  \n",
      " 4   Normal             9412 non-null   int32  \n",
      " 5   Malo               9412 non-null   int32  \n",
      " 6   Pesimo             9412 non-null   int32  \n",
      " 7   Num_Reviews        9412 non-null   int32  \n",
      " 8   Posicion           9397 non-null   float64\n",
      " 9   Rango_precio       9412 non-null   object \n",
      " 10  Tipo_Cocina        9412 non-null   object \n",
      " 11  Awards             9412 non-null   int64  \n",
      " 12  Score_Comida       5590 non-null   float64\n",
      " 13  Score_Servicio     5570 non-null   float64\n",
      " 14  Calidad_Precio     5516 non-null   float64\n",
      " 15  Ambiente           1838 non-null   float64\n",
      " 16  Direccion          9412 non-null   object \n",
      " 17  Web_TripAdvisor    9412 non-null   object \n",
      " 18  Latina             9412 non-null   int64  \n",
      " 19  Eur Este           9412 non-null   int64  \n",
      " 20  Africana           9412 non-null   int64  \n",
      " 21  China              9412 non-null   int64  \n",
      " 22  Japonesa           9412 non-null   int64  \n",
      " 23  Arabe              9412 non-null   int64  \n",
      " 24  Mexicana           9412 non-null   int64  \n",
      " 25  Caribeña           9412 non-null   int64  \n",
      " 26  Asiatica           9412 non-null   int64  \n",
      " 27  America Norte      9412 non-null   int64  \n",
      " 28  America Sur        9412 non-null   int64  \n",
      " 29  Italiana           9412 non-null   int64  \n",
      " 30  Española           9412 non-null   int64  \n",
      " 31  Eur Occidental     9412 non-null   int64  \n",
      " 32  Asador             9412 non-null   int64  \n",
      " 33  N/A                9412 non-null   int64  \n",
      " 34  India              9412 non-null   int64  \n",
      " 35  Num_Reviews_Spain  9412 non-null   int32  \n",
      " 36  Latitud            6354 non-null   float64\n",
      " 37  Longitud           6354 non-null   float64\n",
      "dtypes: float64(8), int32(7), int64(18), object(5)\n",
      "memory usage: 2.5+ MB\n"
     ]
    }
   ],
   "source": [
    "df_.info()"
   ]
  },
  {
   "cell_type": "code",
   "execution_count": 34,
   "metadata": {},
   "outputs": [],
   "source": [
    "df_.to_csv(\"Sources\\df_Clean_TripAdvisor.csv\")"
   ]
  },
  {
   "cell_type": "code",
   "execution_count": null,
   "metadata": {},
   "outputs": [],
   "source": []
  }
 ],
 "metadata": {
  "kernelspec": {
   "display_name": "Python 3 (ipykernel)",
   "language": "python",
   "name": "python3"
  },
  "language_info": {
   "codemirror_mode": {
    "name": "ipython",
    "version": 3
   },
   "file_extension": ".py",
   "mimetype": "text/x-python",
   "name": "python",
   "nbconvert_exporter": "python",
   "pygments_lexer": "ipython3",
   "version": "3.11.3"
  }
 },
 "nbformat": 4,
 "nbformat_minor": 2
}
