{
 "cells": [
  {
   "cell_type": "code",
   "execution_count": 1,
   "metadata": {},
   "outputs": [],
   "source": [
    "import pickle\n",
    "import pandas as pd\n",
    "import numpy as np"
   ]
  },
  {
   "cell_type": "code",
   "execution_count": 2,
   "metadata": {},
   "outputs": [],
   "source": [
    "def concat_pkl_files(file_paths):\n",
    "    \"\"\"\n",
    "    Lee archivos pkl desde una lista de rutas de archivos,los convierte en DataFrames,\n",
    "    y los concatena en uno solo.\n",
    "    :param file_paths: Lista de rutas de archivos pkl.\n",
    "    :return: DataFrame resultante de la concatenación.\n",
    "    \"\"\"\n",
    "    dfs = []  # Lista para almacenar los DataFrames de cada archivo\n",
    "    \n",
    "    for file in file_paths:\n",
    "        with open(f\"Sources\\datos pkl\\{file}\", \"rb\") as f:\n",
    "            df = pickle.load(f)\n",
    "        dfs.append(df)  # Agregar el DataFrame a la lista\n",
    "    \n",
    "    concatenated_df = pd.concat(dfs, ignore_index=True)  # Concatenar los DataFrames\n",
    "    return concatenated_df"
   ]
  },
  {
   "cell_type": "code",
   "execution_count": 3,
   "metadata": {},
   "outputs": [
    {
     "name": "stdout",
     "output_type": "stream",
     "text": [
      "['Trip_Rest_0_200.pkl', 'Trip_Rest_200_400.pkl', 'Trip_Rest_400_600.pkl', 'Trip_Rest_600_800.pkl', 'Trip_Rest_800_1000.pkl', 'Trip_Rest_1000_1200.pkl', 'Trip_Rest_1200_1400.pkl', 'Trip_Rest_1400_1600.pkl', 'Trip_Rest_1600_1800.pkl', 'Trip_Rest_1800_2000.pkl', 'Trip_Rest_2000_2200.pkl', 'Trip_Rest_2200_2400.pkl', 'Trip_Rest_2400_2600.pkl', 'Trip_Rest_2600_2800.pkl', 'Trip_Rest_2800_3000.pkl', 'Trip_Rest_3000_3200.pkl', 'Trip_Rest_3200_3400.pkl', 'Trip_Rest_3400_3600.pkl', 'Trip_Rest_3600_3800.pkl', 'Trip_Rest_3800_4000.pkl', 'Trip_Rest_4000_4200.pkl', 'Trip_Rest_4200_4400.pkl', 'Trip_Rest_4400_4600.pkl', 'Trip_Rest_4600_4800.pkl', 'Trip_Rest_4800_5000.pkl', 'Trip_Rest_5000_5200.pkl', 'Trip_Rest_5200_5400.pkl', 'Trip_Rest_5400_5600.pkl', 'Trip_Rest_5600_5800.pkl', 'Trip_Rest_5800_6000.pkl', 'Trip_Rest_6000_6200.pkl', 'Trip_Rest_6200_6400.pkl', 'Trip_Rest_6400_6600.pkl', 'Trip_Rest_6600_6800.pkl', 'Trip_Rest_6800_7000.pkl', 'Trip_Rest_7000_7200.pkl', 'Trip_Rest_7200_7400.pkl', 'Trip_Rest_7400_7600.pkl', 'Trip_Rest_7600_7800.pkl', 'Trip_Rest_7800_8000.pkl', 'Trip_Rest_8000_8200.pkl', 'Trip_Rest_8200_8400.pkl', 'Trip_Rest_8400_8600.pkl', 'Trip_Rest_8600_8800.pkl', 'Trip_Rest_8800_9000.pkl', 'Trip_Rest_9000_9200.pkl', 'Trip_Rest_9200_9400.pkl', 'Trip_Rest_9400_9600.pkl', 'Trip_Rest_9600_9800.pkl']\n"
     ]
    }
   ],
   "source": [
    "#Codigo para generer todos los nombres de archivo pkl\n",
    "file_pkl=[]\n",
    "for i in range(0,9800,200):\n",
    "    file_pkl.append(f\"Trip_Rest_{i}_{i+200}.pkl\")\n",
    "print(file_pkl)\n"
   ]
  },
  {
   "cell_type": "code",
   "execution_count": 4,
   "metadata": {},
   "outputs": [],
   "source": [
    "result_df2 = concat_pkl_files(file_pkl)"
   ]
  },
  {
   "cell_type": "code",
   "execution_count": 5,
   "metadata": {},
   "outputs": [
    {
     "name": "stdout",
     "output_type": "stream",
     "text": [
      "<class 'pandas.core.frame.DataFrame'>\n",
      "RangeIndex: 9800 entries, 0 to 9799\n",
      "Data columns (total 18 columns):\n",
      " #   Column           Non-Null Count  Dtype  \n",
      "---  ------           --------------  -----  \n",
      " 0   Nombre           9767 non-null   object \n",
      " 1   Score            9375 non-null   object \n",
      " 2   Excelente        9375 non-null   object \n",
      " 3   MuyBueno         9375 non-null   object \n",
      " 4   Normal           9375 non-null   object \n",
      " 5   Malo             9375 non-null   object \n",
      " 6   Pesimo           9375 non-null   object \n",
      " 7   Num_Reviews      9767 non-null   object \n",
      " 8   Posicion         9360 non-null   object \n",
      " 9   Rango_precio     8707 non-null   object \n",
      " 10  Tipo_Cocina      9800 non-null   object \n",
      " 11  Awards           9800 non-null   object \n",
      " 12  Score_Comida     5559 non-null   float64\n",
      " 13  Score_Servicio   5539 non-null   float64\n",
      " 14  Calidad_Precio   5486 non-null   float64\n",
      " 15  Ambiente         1824 non-null   float64\n",
      " 16  Direccion        9767 non-null   object \n",
      " 17  Web_TripAdvisor  9800 non-null   object \n",
      "dtypes: float64(4), object(14)\n",
      "memory usage: 1.3+ MB\n"
     ]
    }
   ],
   "source": [
    "result_df2.info()"
   ]
  },
  {
   "cell_type": "code",
   "execution_count": 6,
   "metadata": {},
   "outputs": [],
   "source": [
    "with open(\"Sources\\datos pkl\\Trip_Rest_9800_9869.pkl\", \"rb\") as f:\n",
    "    df = pickle.load(f)"
   ]
  },
  {
   "cell_type": "code",
   "execution_count": 7,
   "metadata": {},
   "outputs": [],
   "source": [
    "df_Trip_Rest_Madrid = pd.concat([result_df2, df], ignore_index=True)"
   ]
  },
  {
   "cell_type": "code",
   "execution_count": 8,
   "metadata": {},
   "outputs": [
    {
     "name": "stdout",
     "output_type": "stream",
     "text": [
      "<class 'pandas.core.frame.DataFrame'>\n",
      "RangeIndex: 9869 entries, 0 to 9868\n",
      "Data columns (total 18 columns):\n",
      " #   Column           Non-Null Count  Dtype  \n",
      "---  ------           --------------  -----  \n",
      " 0   Nombre           9836 non-null   object \n",
      " 1   Score            9443 non-null   object \n",
      " 2   Excelente        9443 non-null   object \n",
      " 3   MuyBueno         9443 non-null   object \n",
      " 4   Normal           9443 non-null   object \n",
      " 5   Malo             9443 non-null   object \n",
      " 6   Pesimo           9443 non-null   object \n",
      " 7   Num_Reviews      9836 non-null   object \n",
      " 8   Posicion         9428 non-null   object \n",
      " 9   Rango_precio     8768 non-null   object \n",
      " 10  Tipo_Cocina      9869 non-null   object \n",
      " 11  Awards           9869 non-null   object \n",
      " 12  Score_Comida     5606 non-null   float64\n",
      " 13  Score_Servicio   5586 non-null   float64\n",
      " 14  Calidad_Precio   5532 non-null   float64\n",
      " 15  Ambiente         1841 non-null   float64\n",
      " 16  Direccion        9836 non-null   object \n",
      " 17  Web_TripAdvisor  9869 non-null   object \n",
      "dtypes: float64(4), object(14)\n",
      "memory usage: 1.4+ MB\n"
     ]
    }
   ],
   "source": [
    "df_Trip_Rest_Madrid.info()"
   ]
  },
  {
   "cell_type": "code",
   "execution_count": 10,
   "metadata": {},
   "outputs": [],
   "source": [
    "df_Trip_Rest_Madrid.to_csv(\"Sources\\Trip_Rest_Madrid.csv\")"
   ]
  }
 ],
 "metadata": {
  "kernelspec": {
   "display_name": "Python 3 (ipykernel)",
   "language": "python",
   "name": "python3"
  },
  "language_info": {
   "codemirror_mode": {
    "name": "ipython",
    "version": 3
   },
   "file_extension": ".py",
   "mimetype": "text/x-python",
   "name": "python",
   "nbconvert_exporter": "python",
   "pygments_lexer": "ipython3",
   "version": "3.11.3"
  }
 },
 "nbformat": 4,
 "nbformat_minor": 2
}
